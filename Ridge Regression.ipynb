{
 "cells": [
  {
   "cell_type": "code",
   "execution_count": 1,
   "metadata": {},
   "outputs": [],
   "source": [
    "import pandas as pd\n",
    "import numpy as np\n",
    "import seaborn as sns\n",
    "from sklearn.model_selection import train_test_split,cross_val_score\n",
    "from sklearn.metrics import mean_squared_error,r2_score\n",
    "import matplotlib.pyplot as plt\n",
    "from sklearn.linear_model import Ridge\n",
    "from sklearn import model_selection"
   ]
  },
  {
   "cell_type": "code",
   "execution_count": 2,
   "metadata": {},
   "outputs": [],
   "source": [
    "#Bu çalışmada veri seti üzerinde ridge regresyon modelini deneyeceğiz.\n",
    "#Ridge regresyon modeli hata kareler toplamını küçültmeye çalışır.\n",
    "#Hata kareler toplamını küçültmek için katsayılara ceza uygular.\n",
    "#Hata kareler toplamı formülünün üstüne bir de ceza terimi eklenmiştir.\n",
    "#Tüm değişkenlerle model kurar.İlgisiz değişkenlerin katsayılarını sıfıra yaklaştırır.\n",
    "#Ceza teriminin katsayısı λ dır. \n",
    "#λ için iyi bir değer bulmak önemlidir. Bunun için croos validation yöntemi kullanılır.\n",
    "#Veri ön işleme aşamalarını yapalım.\n",
    "data=pd.read_csv(\"Hitters.csv\")\n",
    "df=data.copy()\n",
    "df=df.dropna()\n",
    "dms=pd.get_dummies(df[[\"League\",\"Division\",\"NewLeague\"]])\n",
    "y=df[\"Salary\"]\n",
    "x=df.drop([\"Salary\",\"League\",\"Division\",\"NewLeague\"],axis=1).astype(\"float64\")\n",
    "x=pd.concat([x,dms[[\"League_N\",\"Division_W\",\"NewLeague_N\"]]],axis=1)\n",
    "x_train,x_test,y_train,y_test=train_test_split(x,y,test_size=0.25,random_state=42)"
   ]
  },
  {
   "cell_type": "code",
   "execution_count": 3,
   "metadata": {},
   "outputs": [],
   "source": [
    "#Modeli kuralım.\n",
    "#Alpha parametresi formüldeki lambda değeridir.Default olarak 1 girilir.\n",
    "ridge=Ridge(alpha=1).fit(x_train,y_train)"
   ]
  },
  {
   "cell_type": "code",
   "execution_count": 4,
   "metadata": {},
   "outputs": [
    {
     "data": {
      "text/plain": [
       "-4.082384716969273"
      ]
     },
     "execution_count": 4,
     "metadata": {},
     "output_type": "execute_result"
    }
   ],
   "source": [
    "#Modelin sabiti.\n",
    "ridge.intercept_"
   ]
  },
  {
   "cell_type": "code",
   "execution_count": 5,
   "metadata": {},
   "outputs": [
    {
     "data": {
      "text/plain": [
       "array([ -1.7833362 ,   8.82281559,   7.26631498,  -3.33050119,\n",
       "        -2.07091307,   5.42111154,   7.50977607,  -0.13557983,\n",
       "        -0.21962511,  -0.63033482,   1.7974231 ,   0.73919181,\n",
       "        -0.68443562,   0.26159973,   0.26762087,  -0.48054311,\n",
       "       102.20055186, -97.88649765, -38.9216579 ])"
      ]
     },
     "execution_count": 5,
     "metadata": {},
     "output_type": "execute_result"
    }
   ],
   "source": [
    "#Oluşan modelin kat sayıları.\n",
    "ridge.coef_"
   ]
  },
  {
   "cell_type": "code",
   "execution_count": 6,
   "metadata": {},
   "outputs": [
    {
     "data": {
      "text/plain": [
       "148    850.000\n",
       "154    277.500\n",
       "318    875.000\n",
       "279    150.000\n",
       "88     260.000\n",
       "307    277.500\n",
       "221    210.000\n",
       "268    140.000\n",
       "10     517.143\n",
       "132    325.000\n",
       "Name: Salary, dtype: float64"
      ]
     },
     "execution_count": 6,
     "metadata": {},
     "output_type": "execute_result"
    }
   ],
   "source": [
    "y_test[:10]"
   ]
  },
  {
   "cell_type": "code",
   "execution_count": 7,
   "metadata": {},
   "outputs": [
    {
     "data": {
      "text/plain": [
       "array([ 610.65617195,  693.026009  , 1015.18797916,  408.93538433,\n",
       "        420.8066687 ,  342.03579451,  659.24206436,  447.06500871,\n",
       "        911.97037648,  647.245175  ])"
      ]
     },
     "execution_count": 7,
     "metadata": {},
     "output_type": "execute_result"
    }
   ],
   "source": [
    "ridge.predict(x_test)[:10]"
   ]
  },
  {
   "cell_type": "code",
   "execution_count": 8,
   "metadata": {},
   "outputs": [
    {
     "data": {
      "image/png": "[encoded data removed]",
      "text/plain": [
       "<Figure size 432x288 with 1 Axes>"
      ]
     },
     "metadata": {
      "needs_background": "light"
     },
     "output_type": "display_data"
    }
   ],
   "source": [
    "#Lambdanın katsayılar üzerindeki etkisini görmek için bir işlem yapalım.\n",
    "#İçerisinde 100 tane lambda bulunan bir liste oluşturalım.\n",
    "#Bu lambdaları kullanarak ridge regresyon modeli oluşturalım ve çıkan katsayıları bir listeye atalım.\n",
    "\n",
    "lambdalar=10**np.linspace(10,-2,100)*0.5\n",
    "\n",
    "ridge2=Ridge()\n",
    "katsayılar=[]\n",
    "\n",
    "for i in lambdalar:\n",
    "    ridge2.set_params(alpha=i)\n",
    "    ridge2.fit(x_train,y_train)\n",
    "    katsayılar.append(ridge2.coef_)\n",
    "    \n",
    "ax=plt.gca()\n",
    "ax.plot(lambdalar,katsayılar)\n",
    "ax.set_xscale(\"log\")\n",
    "\n",
    "#Grafikte her renk bir değişkenin katsayısını ifade etmektedir.\n",
    "#Görüldüğü gibi lambda değeri arttıkça değişkenlere uygulanan ceza arttığı için değişkenler 0 a yaklaşıyor.\n",
    "#Model her değişkeni kullandığı için katsayılar 0 olmuyor ama ilgisiz değişken katsayıları 0 a yaklaşıyor."
   ]
  },
  {
   "cell_type": "code",
   "execution_count": 9,
   "metadata": {},
   "outputs": [],
   "source": [
    "#Önceki modellerde tuning işlemini brute force yöntemiyle yaptık.\n",
    "#Rigde regresyom modelinin tuning için özel fonksiyonu var.\n",
    "from sklearn.linear_model import RidgeCV"
   ]
  },
  {
   "cell_type": "code",
   "execution_count": 10,
   "metadata": {},
   "outputs": [],
   "source": [
    "#Lambda listemizi oluşturup ridgeCV fonksiyonunu kullandığımız zaman,\n",
    "#modeli fit ettiğimizde en az hata veren lambda değerini kullanıyor.\n",
    "lambdalar=10**np.linspace(10,-2,100)*0.5\n",
    "ridge_cv=RidgeCV(alphas=lambdalar,scoring=\"neg_mean_squared_error\",normalize=True)"
   ]
  },
  {
   "cell_type": "code",
   "execution_count": 11,
   "metadata": {
    "scrolled": false
   },
   "outputs": [
    {
     "data": {
      "text/plain": [
       "RidgeCV(alphas=array([5.00000000e+09, 3.78231664e+09, 2.86118383e+09, 2.16438064e+09,\n",
       "       1.63727458e+09, 1.23853818e+09, 9.36908711e+08, 7.08737081e+08,\n",
       "       5.36133611e+08, 4.05565415e+08, 3.06795364e+08, 2.32079442e+08,\n",
       "       1.75559587e+08, 1.32804389e+08, 1.00461650e+08, 7.59955541e+07,\n",
       "       5.74878498e+07, 4.34874501e+07, 3.28966612e+07, 2.48851178e+07,\n",
       "       1.88246790e+07, 1.42401793e+0...\n",
       "       3.28966612e-01, 2.48851178e-01, 1.88246790e-01, 1.42401793e-01,\n",
       "       1.07721735e-01, 8.14875417e-02, 6.16423370e-02, 4.66301673e-02,\n",
       "       3.52740116e-02, 2.66834962e-02, 2.01850863e-02, 1.52692775e-02,\n",
       "       1.15506485e-02, 8.73764200e-03, 6.60970574e-03, 5.00000000e-03]),\n",
       "        cv=None, fit_intercept=True, gcv_mode=None, normalize=True,\n",
       "        scoring='neg_mean_squared_error', store_cv_values=False)"
      ]
     },
     "execution_count": 11,
     "metadata": {},
     "output_type": "execute_result"
    }
   ],
   "source": [
    "ridge_cv.fit(x_train,y_train)"
   ]
  },
  {
   "cell_type": "code",
   "execution_count": 12,
   "metadata": {},
   "outputs": [
    {
     "data": {
      "text/plain": [
       "0.7599555414764666"
      ]
     },
     "execution_count": 12,
     "metadata": {},
     "output_type": "execute_result"
    }
   ],
   "source": [
    "#Optimum lambda değerine bakalım.\n",
    "ridge_cv.alpha_"
   ]
  },
  {
   "cell_type": "code",
   "execution_count": 13,
   "metadata": {},
   "outputs": [],
   "source": [
    "#Optimum lambda değerini bulduktan sonra bu lambda değeriyle modelimizi tekrar kuruyoruz.\n",
    "ridge_tuned=Ridge(alpha=ridge_cv.alpha_,normalize=True).fit(x_train,y_train)"
   ]
  },
  {
   "cell_type": "code",
   "execution_count": 14,
   "metadata": {},
   "outputs": [],
   "source": [
    "#Modele test değerlerini tahmin ettirelim ve görselleştirmek için indexleyelim.\n",
    "y_pred=ridge_tuned.predict(x_test)\n",
    "y_pred=pd.Series(y_pred,index=x_test.index)"
   ]
  },
  {
   "cell_type": "code",
   "execution_count": 15,
   "metadata": {},
   "outputs": [
    {
     "data": {
      "image/png": "[encoded data removed]",
      "text/plain": [
       "<Figure size 720x432 with 1 Axes>"
      ]
     },
     "metadata": {
      "needs_background": "light"
     },
     "output_type": "display_data"
    }
   ],
   "source": [
    "plt.figure(figsize=(10,6))\n",
    "plt.plot(y_test[:20],\"v\")\n",
    "plt.plot(y_pred[:20],\"v\")\n",
    "plt.legend([\"Gerçek\",\"Tahmin\"]);"
   ]
  }
 ],
 "metadata": {
  "kernelspec": {
   "display_name": "Python 3",
   "language": "python",
   "name": "python3"
  },
  "language_info": {
   "codemirror_mode": {
    "name": "ipython",
    "version": 3
   },
   "file_extension": ".py",
   "mimetype": "text/x-python",
   "name": "python",
   "nbconvert_exporter": "python",
   "pygments_lexer": "ipython3",
   "version": "3.7.3"
  }
 },
 "nbformat": 4,
 "nbformat_minor": 2
}
