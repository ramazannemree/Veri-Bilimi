{
 "cells": [
  {
   "cell_type": "markdown",
   "metadata": {},
   "source": [
    "# KNN "
   ]
  },
  {
   "cell_type": "markdown",
   "metadata": {},
   "source": [
    "Bu çalışmada veri seti üzerinde k-en yakın komşu(knn) algoritması kullanacağız. Knn algoritmasının çalışma mantığı girilen gözlemin en yakın k komşusuna bakarak çıktısını tahmin etmeye çalışmasıdır."
   ]
  },
  {
   "cell_type": "code",
   "execution_count": 1,
   "metadata": {
    "scrolled": true
   },
   "outputs": [],
   "source": [
    "import pandas as pd\n",
    "import numpy as np\n",
    "import seaborn as sns\n",
    "from sklearn.model_selection import train_test_split,cross_val_score\n",
    "from sklearn.metrics import mean_squared_error,r2_score\n",
    "import matplotlib.pyplot as plt\n",
    "from sklearn.neighbors import KNeighborsRegressor\n",
    "from sklearn import model_selection\n",
    "from warnings import filterwarnings\n",
    "filterwarnings(\"ignore\")"
   ]
  },
  {
   "cell_type": "code",
   "execution_count": 2,
   "metadata": {},
   "outputs": [],
   "source": [
    "#Veri ön işleme aşamalarını yapalım.\n",
    "data=pd.read_csv(\"Hitters.csv\")\n",
    "df=data.copy()\n",
    "df=df.dropna()\n",
    "dms=pd.get_dummies(df[[\"League\",\"Division\",\"NewLeague\"]])\n",
    "y=df[\"Salary\"]\n",
    "x=df.drop([\"Salary\",\"League\",\"Division\",\"NewLeague\"],axis=1).astype(\"float64\")\n",
    "x=pd.concat([x,dms[[\"League_N\",\"Division_W\",\"NewLeague_N\"]]],axis=1)\n",
    "x_train,x_test,y_train,y_test=train_test_split(x,y,test_size=0.25,random_state=42)"
   ]
  },
  {
   "cell_type": "code",
   "execution_count": 3,
   "metadata": {},
   "outputs": [],
   "source": [
    "#KNN algoritmasının hiper parametresi komşuluk(k) sayısıdır.Optimize etmek gerekir.\n",
    "#n_neighbors parametresiyle ayarlanır.Ön tanımlı olarak 5 verilmiştir.\n",
    "knn=KNeighborsRegressor().fit(x_train,y_train)"
   ]
  },
  {
   "cell_type": "code",
   "execution_count": 4,
   "metadata": {},
   "outputs": [
    {
     "data": {
      "text/plain": [
       "KNeighborsRegressor(algorithm='auto', leaf_size=30, metric='minkowski',\n",
       "                    metric_params=None, n_jobs=None, n_neighbors=5, p=2,\n",
       "                    weights='uniform')"
      ]
     },
     "execution_count": 4,
     "metadata": {},
     "output_type": "execute_result"
    }
   ],
   "source": [
    "knn"
   ]
  },
  {
   "cell_type": "code",
   "execution_count": 5,
   "metadata": {},
   "outputs": [],
   "source": [
    "y_pred=knn.predict(x_test)"
   ]
  },
  {
   "cell_type": "code",
   "execution_count": 6,
   "metadata": {},
   "outputs": [
    {
     "data": {
      "text/plain": [
       "('Modelin test hatası:', 426.6570764525201)"
      ]
     },
     "execution_count": 6,
     "metadata": {},
     "output_type": "execute_result"
    }
   ],
   "source": [
    "\"Modelin test hatası:\",np.sqrt(mean_squared_error(y_test,y_pred))"
   ]
  },
  {
   "cell_type": "code",
   "execution_count": 7,
   "metadata": {},
   "outputs": [
    {
     "name": "stdout",
     "output_type": "stream",
     "text": [
      "k=  1 RMSE=  0.0\n",
      "k=  2 RMSE=  179.52761335480352\n",
      "k=  3 RMSE=  205.20157172291863\n",
      "k=  4 RMSE=  220.5139794876305\n",
      "k=  5 RMSE=  239.64671325413764\n",
      "k=  6 RMSE=  243.5904190007242\n",
      "k=  7 RMSE=  258.1478781634636\n",
      "k=  8 RMSE=  266.05374203349805\n",
      "k=  9 RMSE=  269.73782093553376\n",
      "k=  10 RMSE=  271.2798300436963\n"
     ]
    }
   ],
   "source": [
    "#k sayısını değiştirerek eğitim hatasının nasıl değiştiğine bakalım.\n",
    "RMSE=[]\n",
    "\n",
    "for k in range(10):\n",
    "    k=k+1\n",
    "    knn_model=KNeighborsRegressor(n_neighbors=k).fit(x_train,y_train)\n",
    "    y_pred2=knn_model.predict(x_train)\n",
    "    rmse=np.sqrt(mean_squared_error(y_train,y_pred2))\n",
    "    RMSE.append(rmse)\n",
    "    print(\"k= \",k,\"RMSE= \",rmse)"
   ]
  },
  {
   "cell_type": "code",
   "execution_count": 8,
   "metadata": {},
   "outputs": [],
   "source": [
    "#Modelin optimum parametresini bulmak için hazır bir fonksiyon kullanacağız.\n",
    "#GridSearchCV fonksiyonu, olası parametre seti verilerek olası kombinasyonları dener ve optimum olanını verir.\n",
    "from sklearn.model_selection import GridSearchCV"
   ]
  },
  {
   "cell_type": "code",
   "execution_count": 9,
   "metadata": {},
   "outputs": [],
   "source": [
    "#Parametre seti oluştururken parametre isminin fonksiyonda olan ile birebir olmasına dikkat edilmelidir.\n",
    "#GridSearchCV sözlük içinde parametreyi arar ve değerleri dener.\n",
    "knn_parametre={\"n_neighbors\":np.arange(1,15,1)}"
   ]
  },
  {
   "cell_type": "code",
   "execution_count": 10,
   "metadata": {},
   "outputs": [],
   "source": [
    "knn2=KNeighborsRegressor()"
   ]
  },
  {
   "cell_type": "code",
   "execution_count": 11,
   "metadata": {},
   "outputs": [],
   "source": [
    "knn_cv=GridSearchCV(knn2,knn_parametre,cv=10)"
   ]
  },
  {
   "cell_type": "code",
   "execution_count": 12,
   "metadata": {},
   "outputs": [
    {
     "data": {
      "text/plain": [
       "GridSearchCV(cv=10, error_score='raise-deprecating',\n",
       "             estimator=KNeighborsRegressor(algorithm='auto', leaf_size=30,\n",
       "                                           metric='minkowski',\n",
       "                                           metric_params=None, n_jobs=None,\n",
       "                                           n_neighbors=5, p=2,\n",
       "                                           weights='uniform'),\n",
       "             iid='warn', n_jobs=None,\n",
       "             param_grid={'n_neighbors': array([ 1,  2,  3,  4,  5,  6,  7,  8,  9, 10, 11, 12, 13, 14])},\n",
       "             pre_dispatch='2*n_jobs', refit=True, return_train_score=False,\n",
       "             scoring=None, verbose=0)"
      ]
     },
     "execution_count": 12,
     "metadata": {},
     "output_type": "execute_result"
    }
   ],
   "source": [
    "knn_cv.fit(x_train,y_train)"
   ]
  },
  {
   "cell_type": "code",
   "execution_count": 13,
   "metadata": {},
   "outputs": [
    {
     "data": {
      "text/plain": [
       "8"
      ]
     },
     "execution_count": 13,
     "metadata": {},
     "output_type": "execute_result"
    }
   ],
   "source": [
    "#Fonksiyonun bulduğu optimum parametreyi görelim.\n",
    "knn_cv.best_params_[\"n_neighbors\"]"
   ]
  },
  {
   "cell_type": "code",
   "execution_count": 14,
   "metadata": {},
   "outputs": [
    {
     "name": "stdout",
     "output_type": "stream",
     "text": [
      "k=  1 RMSE=  0.0     RMSE_CV=  325.39475147063825\n",
      "k=  2 RMSE=  179.52761335480352     RMSE_CV=  293.24000183333817\n",
      "k=  3 RMSE=  205.20157172291863     RMSE_CV=  283.7486667487823\n",
      "k=  4 RMSE=  220.5139794876305     RMSE_CV=  286.3240222024089\n",
      "k=  5 RMSE=  239.64671325413764     RMSE_CV=  290.0705466132226\n",
      "k=  6 RMSE=  243.5904190007242     RMSE_CV=  298.1263115575851\n",
      "k=  7 RMSE=  258.1478781634636     RMSE_CV=  294.77070479194987\n",
      "k=  8 RMSE=  266.05374203349805     RMSE_CV=  291.98672028891235\n",
      "k=  9 RMSE=  269.73782093553376     RMSE_CV=  295.7162739573105\n",
      "k=  10 RMSE=  271.2798300436963     RMSE_CV=  301.31047022701154\n"
     ]
    }
   ],
   "source": [
    "#Valide edilmeden önceki ve sonraki eğitim hatalarını karşılaştırıp hangisini kullanmamız gerektiğine bakalım.\n",
    "RMSE=[]\n",
    "RMSE_CV=[]\n",
    "for k in range(10):\n",
    "    k=k+1\n",
    "    knn_model=KNeighborsRegressor(n_neighbors=k).fit(x_train,y_train)\n",
    "    y_pred2=knn_model.predict(x_train)\n",
    "    rmse=np.sqrt(mean_squared_error(y_train,y_pred2))\n",
    "    rmse_cv=np.sqrt(-1*cross_val_score(knn_model,x_train,y_train,cv=10,scoring=\"neg_mean_squared_error\").mean())\n",
    "    RMSE.append(rmse)\n",
    "    RMSE_CV.append(rmse_cv)\n",
    "    print(\"k= \",k,\"RMSE= \",rmse,\"    RMSE_CV= \",rmse_cv)\n",
    "#Cross validation işlemi yapmadan önceki hata değerler daha düşük fakat 179-271 aralığında standart sapması yüksek.\n",
    "#Valide edilmiş hata değerleri 283-301 aralığında standart sapması daha düşük, daha güvenilir bir sonuçlar.\n",
    "#Modelin eğitim için hata değerlendirmesini valide edilmiş model üzerinden değerlendirmek daha doğru olur."
   ]
  },
  {
   "cell_type": "code",
   "execution_count": 15,
   "metadata": {},
   "outputs": [],
   "source": [
    "#Optimum komşuluk sayısı ile final modelimizi kuralım.\n",
    "knn_tuned=KNeighborsRegressor(n_neighbors=8).fit(x_train,y_train)"
   ]
  },
  {
   "cell_type": "code",
   "execution_count": 16,
   "metadata": {},
   "outputs": [],
   "source": [
    "y_pred_tuned=knn_tuned.predict(x_test)"
   ]
  },
  {
   "cell_type": "code",
   "execution_count": 17,
   "metadata": {},
   "outputs": [
    {
     "data": {
      "text/plain": [
       "('Tune edilmiş modelin test hatası:', 413.7094731463598)"
      ]
     },
     "execution_count": 17,
     "metadata": {},
     "output_type": "execute_result"
    }
   ],
   "source": [
    "\"Tune edilmiş modelin test hatası:\",np.sqrt(mean_squared_error(y_test,y_pred_tuned))"
   ]
  }
 ],
 "metadata": {
  "kernelspec": {
   "display_name": "Python 3",
   "language": "python",
   "name": "python3"
  },
  "language_info": {
   "codemirror_mode": {
    "name": "ipython",
    "version": 3
   },
   "file_extension": ".py",
   "mimetype": "text/x-python",
   "name": "python",
   "nbconvert_exporter": "python",
   "pygments_lexer": "ipython3",
   "version": "3.7.3"
  }
 },
 "nbformat": 4,
 "nbformat_minor": 2
}
