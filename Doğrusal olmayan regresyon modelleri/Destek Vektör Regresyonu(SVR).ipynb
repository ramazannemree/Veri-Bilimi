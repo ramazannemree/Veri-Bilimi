{
 "cells": [
  {
   "cell_type": "markdown",
   "metadata": {},
   "source": [
    "# SVR"
   ]
  },
  {
   "cell_type": "markdown",
   "metadata": {},
   "source": [
    "Bu çalışmada veri seti üzerinde destek vektör regresyonu deneyeceğiz. Destek vektör ilk olarak sınıflandırma problemleri için çıkmış daha sonra regresyon problemlerine de uyarlanmış bir algoritmadır. Amacı, bir marjin aralığında maximum noktayı en az hata ile alacak doğru veya eğri çizmektir. "
   ]
  },
  {
   "cell_type": "code",
   "execution_count": 1,
   "metadata": {
    "scrolled": true
   },
   "outputs": [],
   "source": [
    "import pandas as pd\n",
    "import numpy as np\n",
    "from sklearn.model_selection import train_test_split,cross_val_score,GridSearchCV\n",
    "from sklearn.metrics import mean_squared_error,r2_score\n",
    "import matplotlib.pyplot as plt\n",
    "from sklearn import model_selection\n",
    "from warnings import filterwarnings\n",
    "from sklearn.svm import SVR\n",
    "filterwarnings(\"ignore\")"
   ]
  },
  {
   "cell_type": "code",
   "execution_count": 2,
   "metadata": {},
   "outputs": [],
   "source": [
    "#Veri ön işleme aşamalarını yapalım.\n",
    "#Öncelikle basit svr denemek için bağımsız değişkenlerden sadece hits değişkenini seçiyoruz.\n",
    "#Böylece veri seti bir girdi ve bir çıktı şeklinde oluyor.\n",
    "data=pd.read_csv(\"Hitters.csv\")\n",
    "df=data.copy()\n",
    "df=df.dropna()\n",
    "dms=pd.get_dummies(df[[\"League\",\"Division\",\"NewLeague\"]])\n",
    "y=df[\"Salary\"]\n",
    "x=df.drop([\"Salary\",\"League\",\"Division\",\"NewLeague\"],axis=1).astype(\"float64\")\n",
    "x=pd.concat([x,dms[[\"League_N\",\"Division_W\",\"NewLeague_N\"]]],axis=1)\n",
    "x_train,x_test,y_train,y_test=train_test_split(x,y,test_size=0.25,random_state=42)\n",
    "x_train=pd.DataFrame(x_train[\"Hits\"])\n",
    "x_test=pd.DataFrame(x_test[\"Hits\"])"
   ]
  },
  {
   "cell_type": "code",
   "execution_count": 3,
   "metadata": {},
   "outputs": [],
   "source": [
    "#Modelimizi kuralım.\n",
    "#SVR'ın bir de doğrusal olmayan hali olduğu için doğrusal olduğunu belirtmemiz gerekiyor.\n",
    "#SVR'ın formülünde lasso ve ridge'de olduğu gibi bir ceza parametresi vardır.\n",
    "#C parametresi ceza katsayısını ayarlar, ön tanımlı olarak 1 girilmiştir.\n",
    "svr=SVR(\"linear\").fit(x_train,y_train)"
   ]
  },
  {
   "cell_type": "code",
   "execution_count": 4,
   "metadata": {},
   "outputs": [
    {
     "data": {
      "text/plain": [
       "'Modelin kurduğu denklem: y = -48.69756097561513 + 4.969512195122093 * Hits '"
      ]
     },
     "execution_count": 4,
     "metadata": {},
     "output_type": "execute_result"
    }
   ],
   "source": [
    "\"Modelin kurduğu denklem: y = {0} + {1} * Hits \".format(svr.intercept_[0],svr.coef_[0][0])"
   ]
  },
  {
   "cell_type": "code",
   "execution_count": 5,
   "metadata": {},
   "outputs": [],
   "source": [
    "y_pred=svr.predict(x_test)"
   ]
  },
  {
   "cell_type": "code",
   "execution_count": 6,
   "metadata": {},
   "outputs": [
    {
     "data": {
      "image/png": "[encoded data removed]",
      "text/plain": [
       "<Figure size 432x288 with 1 Axes>"
      ]
     },
     "metadata": {
      "needs_background": "light"
     },
     "output_type": "display_data"
    }
   ],
   "source": [
    "#SVR'ın oluşturduğu doğruyu grafikte görelim.\n",
    "plt.scatter(x_test,y_test)\n",
    "plt.plot(x_test,y_pred,color=\"r\");"
   ]
  },
  {
   "cell_type": "code",
   "execution_count": 7,
   "metadata": {},
   "outputs": [],
   "source": [
    "#Veri setini bir de doğrusal regresyon kullanarak modelleyelim ve farkını görelim.\n",
    "from sklearn.linear_model import LinearRegression\n",
    "model=LinearRegression().fit(x_train,y_train)\n",
    "y_pred_lm=model.predict(x_test)"
   ]
  },
  {
   "cell_type": "code",
   "execution_count": 8,
   "metadata": {},
   "outputs": [
    {
     "data": {
      "image/png": "[encoded data removed]",
      "text/plain": [
       "<Figure size 432x288 with 1 Axes>"
      ]
     },
     "metadata": {
      "needs_background": "light"
     },
     "output_type": "display_data"
    }
   ],
   "source": [
    "#SVR ve doğrusal regresyon modellerini grafiğe çizdirdiğimiz zaman doğrusal modelin daha yukarda olduğunu görüyoruz.\n",
    "#Bunun nedeni veri setinden çok yukarda kalmış olan aykırı değerlerin doğrusal modele daha çok etki etmesidir.\n",
    "#SVR model aykırı değerlere daha dayanıklıdır ve daha doğru sonuçlar verir.\n",
    "plt.scatter(x_test,y_test,alpha=0.7,s=20)\n",
    "plt.plot(x_test,y_pred,color=\"g\")\n",
    "plt.plot(x_test,y_pred_lm,color=\"r\")\n",
    "plt.xlabel(\"Hits\")\n",
    "plt.ylabel(\"Salary\");"
   ]
  },
  {
   "cell_type": "code",
   "execution_count": 9,
   "metadata": {},
   "outputs": [
    {
     "data": {
      "text/plain": [
       "(\"SVR'ın test hatası\", 459.0187960365147)"
      ]
     },
     "execution_count": 9,
     "metadata": {},
     "output_type": "execute_result"
    }
   ],
   "source": [
    "#İki modelin test hatalarına baktığımızda da SVR'ın daha az hata verdiğini görüyoruz.\n",
    "\"SVR'ın test hatası\",np.sqrt(mean_squared_error(y_test,y_pred))"
   ]
  },
  {
   "cell_type": "code",
   "execution_count": 10,
   "metadata": {},
   "outputs": [
    {
     "data": {
      "text/plain": [
       "('Doğrusal modelin test hatası', 464.4153652214483)"
      ]
     },
     "execution_count": 10,
     "metadata": {},
     "output_type": "execute_result"
    }
   ],
   "source": [
    "\"Doğrusal modelin test hatası\",np.sqrt(mean_squared_error(y_test,y_pred_lm))"
   ]
  },
  {
   "cell_type": "code",
   "execution_count": 11,
   "metadata": {},
   "outputs": [],
   "source": [
    "#SVR'ı tune etme işlemlerine geçelim.\n",
    "#SVR'ın hiper parametresi C katsaysıdır. \n",
    "#C'yi optimize etmek için belirli bir aralıkta parametre seti oluşturup GridSearchCV fonksiyonuyla optimumunu bulacağız.\n",
    "svr_params={\"C\":np.arange(0.1,2,0.1)}\n",
    "svr_cv=GridSearchCV(svr,svr_params,cv=10).fit(x_train,y_train)"
   ]
  },
  {
   "cell_type": "code",
   "execution_count": 12,
   "metadata": {},
   "outputs": [
    {
     "data": {
      "text/plain": [
       "{'C': 0.1}"
      ]
     },
     "execution_count": 12,
     "metadata": {},
     "output_type": "execute_result"
    }
   ],
   "source": [
    "#Optimum c değeri.\n",
    "svr_cv.best_params_"
   ]
  },
  {
   "cell_type": "code",
   "execution_count": 13,
   "metadata": {},
   "outputs": [],
   "source": [
    "#Optimum c değeri ile final modelini kuralım.\n",
    "svr_tuned=SVR(\"linear\",C=pd.Series(svr_cv.best_params_)[0]).fit(x_train,y_train)"
   ]
  },
  {
   "cell_type": "code",
   "execution_count": 14,
   "metadata": {},
   "outputs": [],
   "source": [
    "y_pred_tuned=svr_tuned.predict(x_test)"
   ]
  },
  {
   "cell_type": "code",
   "execution_count": 15,
   "metadata": {},
   "outputs": [
    {
     "data": {
      "text/plain": [
       "('Tune edilmiş modelin test hatası: ', 458.198966781116)"
      ]
     },
     "execution_count": 15,
     "metadata": {},
     "output_type": "execute_result"
    }
   ],
   "source": [
    "#Optimum c ile kurulan modelin hatasının daha düşük olduğunu görüyoruz.\n",
    "\"Tune edilmiş modelin test hatası: \",np.sqrt(mean_squared_error(y_test,y_pred_tuned))"
   ]
  },
  {
   "cell_type": "code",
   "execution_count": 16,
   "metadata": {},
   "outputs": [
    {
     "data": {
      "image/png": "[encoded data removed]",
      "text/plain": [
       "<Figure size 720x432 with 1 Axes>"
      ]
     },
     "metadata": {
      "needs_background": "light"
     },
     "output_type": "display_data"
    }
   ],
   "source": [
    "plt.figure(figsize=(10,6))\n",
    "plt.scatter(x_test,y_test,alpha=0.7,s=20)\n",
    "plt.plot(x_test,y_pred,color=\"g\")\n",
    "plt.plot(x_test,y_pred_tuned,color=\"r\")\n",
    "plt.xlabel(\"Hits\")\n",
    "plt.ylabel(\"Salary\");\n",
    "#Tune edilmiş modelin çok az bir fark ile daha aşşağıda olduunu görüyoruz."
   ]
  },
  {
   "cell_type": "code",
   "execution_count": 17,
   "metadata": {},
   "outputs": [],
   "source": [
    "#Modeli bir de bütün değişkenleri kullanarak kurmayı deneyelim.\n",
    "x_train2,x_test2,y_train2,y_test2=train_test_split(x,y,test_size=0.25,random_state=42)"
   ]
  },
  {
   "cell_type": "code",
   "execution_count": 18,
   "metadata": {},
   "outputs": [],
   "source": [
    "#Bütün değişkenler ile optimum c ararken işlem çok uzun süreceğinden aralığı biraz daraltalım.\n",
    "svr_params={\"C\":np.arange(0.2,1,0.2)}\n",
    "svr_cv2=GridSearchCV(svr,svr_params,cv=10).fit(x_train2,y_train2)"
   ]
  },
  {
   "cell_type": "code",
   "execution_count": 19,
   "metadata": {},
   "outputs": [
    {
     "data": {
      "text/plain": [
       "{'C': 0.4}"
      ]
     },
     "execution_count": 19,
     "metadata": {},
     "output_type": "execute_result"
    }
   ],
   "source": [
    "svr_cv2.best_params_"
   ]
  },
  {
   "cell_type": "code",
   "execution_count": 20,
   "metadata": {},
   "outputs": [],
   "source": [
    "#Bütün değişkenleri kullanarak bulduğumuz optimum c ile final modelini kuralım.\n",
    "svr_tuned2=SVR(\"linear\",C=pd.Series(svr_cv2.best_params_)[0]).fit(x_train2,y_train2)\n",
    "y_pred_tuned2=svr_tuned2.predict(x_test2)"
   ]
  },
  {
   "cell_type": "code",
   "execution_count": 21,
   "metadata": {},
   "outputs": [
    {
     "data": {
      "text/plain": [
       "367.5385297249052"
      ]
     },
     "execution_count": 21,
     "metadata": {},
     "output_type": "execute_result"
    }
   ],
   "source": [
    "#Bütün değişkenleri kullanarak kurulan modelin hatasının daha az olduğunu görüyoruz.\n",
    "#Veri setini açıklamada diğer parametrelerin de etkisi varmış.\n",
    "np.sqrt(mean_squared_error(y_test2,y_pred_tuned2))"
   ]
  }
 ],
 "metadata": {
  "kernelspec": {
   "display_name": "Python 3",
   "language": "python",
   "name": "python3"
  },
  "language_info": {
   "codemirror_mode": {
    "name": "ipython",
    "version": 3
   },
   "file_extension": ".py",
   "mimetype": "text/x-python",
   "name": "python",
   "nbconvert_exporter": "python",
   "pygments_lexer": "ipython3",
   "version": "3.7.3"
  }
 },
 "nbformat": 4,
 "nbformat_minor": 2
}
