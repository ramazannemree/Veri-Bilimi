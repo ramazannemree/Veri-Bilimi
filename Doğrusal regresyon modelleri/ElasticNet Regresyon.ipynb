{
 "cells": [
  {
   "cell_type": "code",
   "execution_count": 1,
   "metadata": {},
   "outputs": [],
   "source": [
    "#Bu çalışmada veri seti üzerinde ElasticNet regresyon modelini deneyeceğiz.\n",
    "#ElasticNet regresyonunun amacı Ridge ve Lassa'da olduğu gibi hata kareler toplamını minimize etmektir.\n",
    "#Bu model Ridge ve Lasso regresyon modellerinin birleşimidir.\n",
    "#Ridge tarzı cezalandırma ve lasso tarzı değişken silme yöntemini bir arada yapıyor.\n",
    "#Doğrusal regresyon modelleri arasında en gelişmiş regresyon modelidir."
   ]
  },
  {
   "cell_type": "code",
   "execution_count": 2,
   "metadata": {},
   "outputs": [],
   "source": [
    "import pandas as pd\n",
    "import numpy as np\n",
    "import seaborn as sns\n",
    "from sklearn.model_selection import train_test_split,cross_val_score\n",
    "from sklearn.metrics import mean_squared_error,r2_score\n",
    "import matplotlib.pyplot as plt\n",
    "from sklearn.linear_model import ElasticNet\n",
    "from sklearn import model_selection"
   ]
  },
  {
   "cell_type": "code",
   "execution_count": 3,
   "metadata": {},
   "outputs": [],
   "source": [
    "#Veri ön işleme aşamalarını yapalım.\n",
    "data=pd.read_csv(\"Hitters.csv\")\n",
    "df=data.copy()\n",
    "df=df.dropna()\n",
    "dms=pd.get_dummies(df[[\"League\",\"Division\",\"NewLeague\"]])\n",
    "y=df[\"Salary\"]\n",
    "x=df.drop([\"Salary\",\"League\",\"Division\",\"NewLeague\"],axis=1).astype(\"float64\")\n",
    "x=pd.concat([x,dms[[\"League_N\",\"Division_W\",\"NewLeague_N\"]]],axis=1)\n",
    "x_train,x_test,y_train,y_test=train_test_split(x,y,test_size=0.25,random_state=66)"
   ]
  },
  {
   "cell_type": "code",
   "execution_count": 4,
   "metadata": {},
   "outputs": [
    {
     "name": "stderr",
     "output_type": "stream",
     "text": [
      "C:\\ProgramData\\Anaconda3\\lib\\site-packages\\sklearn\\linear_model\\coordinate_descent.py:475: ConvergenceWarning: Objective did not converge. You might want to increase the number of iterations. Duality gap: 9494631.660314092, tolerance: 4275.528283492919\n",
      "  positive)\n"
     ]
    }
   ],
   "source": [
    "#alpha parametresi formüldeki lambdalardır.Öntanımlı olarak 1 girilmiştir.\n",
    "#l1_ratio argümanı hangi cezayı kullanacağını belirler.#0 ise L2, 1 ise L1 cezalandırması yapar.\n",
    "#l1_ratio nun öntanımlı değeri 0.5 dir. yani iki cezayı da kullanır.\n",
    "enet=ElasticNet().fit(x_train,y_train)"
   ]
  },
  {
   "cell_type": "code",
   "execution_count": 5,
   "metadata": {},
   "outputs": [
    {
     "data": {
      "text/plain": [
       "198.20754421255242"
      ]
     },
     "execution_count": 5,
     "metadata": {},
     "output_type": "execute_result"
    }
   ],
   "source": [
    "#Modelin sabiti.\n",
    "enet.intercept_"
   ]
  },
  {
   "cell_type": "code",
   "execution_count": 6,
   "metadata": {},
   "outputs": [
    {
     "data": {
      "text/plain": [
       "array([-2.07254284e+00,  6.79187855e+00,  3.73503098e-01, -1.95551987e+00,\n",
       "        8.56426776e-01,  4.94718144e+00,  2.00820306e+00, -5.05230656e-01,\n",
       "        1.48082232e+00,  1.76601040e+00,  1.30897133e+00, -2.57753742e-02,\n",
       "       -6.22795402e-01,  3.49617349e-01,  3.58362723e-01, -1.19789039e+00,\n",
       "        1.12998965e+01, -2.68202920e+01,  3.76620084e+00])"
      ]
     },
     "execution_count": 6,
     "metadata": {},
     "output_type": "execute_result"
    }
   ],
   "source": [
    "#Modelin oluşturduğu denklemdeki değişkenlerin kat sayısı.\n",
    "enet.coef_"
   ]
  },
  {
   "cell_type": "code",
   "execution_count": 7,
   "metadata": {},
   "outputs": [],
   "source": [
    "y_pred=enet.predict(x_test)"
   ]
  },
  {
   "cell_type": "code",
   "execution_count": 8,
   "metadata": {},
   "outputs": [
    {
     "data": {
      "text/plain": [
       "('Test hatası: ', 321.4815799977146)"
      ]
     },
     "execution_count": 8,
     "metadata": {},
     "output_type": "execute_result"
    }
   ],
   "source": [
    "\"Test hatası: \",np.sqrt(mean_squared_error(y_test,y_pred))"
   ]
  },
  {
   "cell_type": "code",
   "execution_count": 9,
   "metadata": {},
   "outputs": [
    {
     "data": {
      "text/plain": [
       "0.31587380000060794"
      ]
     },
     "execution_count": 9,
     "metadata": {},
     "output_type": "execute_result"
    }
   ],
   "source": [
    "r2_score(y_test,y_pred)"
   ]
  },
  {
   "cell_type": "code",
   "execution_count": 10,
   "metadata": {},
   "outputs": [],
   "source": [
    "#ElasticNet modelinin de kendi tuning fonksiyonu vardır.\n",
    "from sklearn.linear_model import ElasticNetCV"
   ]
  },
  {
   "cell_type": "code",
   "execution_count": 11,
   "metadata": {},
   "outputs": [],
   "source": [
    "#10 katlı cross validation la tuning işlemi yapalım.\n",
    "enet_cv=ElasticNetCV(cv=10,random_state=66).fit(x_train,y_train)"
   ]
  },
  {
   "cell_type": "code",
   "execution_count": 12,
   "metadata": {},
   "outputs": [
    {
     "data": {
      "text/plain": [
       "1042.2612769794118"
      ]
     },
     "execution_count": 12,
     "metadata": {},
     "output_type": "execute_result"
    }
   ],
   "source": [
    "#Model optimum lambda değerini buldu.\n",
    "enet_cv.alpha_"
   ]
  },
  {
   "cell_type": "code",
   "execution_count": 13,
   "metadata": {},
   "outputs": [],
   "source": [
    "#Optimum lambda değeriyle final modelini kuralım.\n",
    "enet_tuned=ElasticNet(alpha=enet_cv.alpha_).fit(x_train,y_train)"
   ]
  },
  {
   "cell_type": "code",
   "execution_count": 14,
   "metadata": {},
   "outputs": [],
   "source": [
    "y_pred_tuned=enet_tuned.predict(x_test)"
   ]
  },
  {
   "cell_type": "code",
   "execution_count": 15,
   "metadata": {},
   "outputs": [
    {
     "data": {
      "text/plain": [
       "('Test hatası: ', 326.69727873071474)"
      ]
     },
     "execution_count": 15,
     "metadata": {},
     "output_type": "execute_result"
    }
   ],
   "source": [
    "\"Test hatası: \",np.sqrt(mean_squared_error(y_test,y_pred_tuned))"
   ]
  },
  {
   "cell_type": "code",
   "execution_count": 16,
   "metadata": {},
   "outputs": [],
   "source": [
    "y_pred_tuned=pd.Series(y_pred_tuned,index=y_test.index)"
   ]
  },
  {
   "cell_type": "code",
   "execution_count": 17,
   "metadata": {
    "scrolled": false
   },
   "outputs": [
    {
     "data": {
      "image/png": "[encoded data removed]",
      "text/plain": [
       "<Figure size 720x432 with 1 Axes>"
      ]
     },
     "metadata": {
      "needs_background": "light"
     },
     "output_type": "display_data"
    }
   ],
   "source": [
    "plt.figure(figsize=(10,6))\n",
    "plt.plot(y_test[:20],\"v\")\n",
    "plt.plot(y_pred_tuned[:20],\"o\")\n",
    "plt.legend([\"Gerçek\",\"Tahmin\"]);"
   ]
  },
  {
   "cell_type": "markdown",
   "metadata": {},
   "source": [
    "# Sonuç"
   ]
  },
  {
   "cell_type": "markdown",
   "metadata": {},
   "source": [
    "Aynı veri seti üzerinde birkaç doğrusal regresyon modeli denedik.\n",
    "Tune edilmiş modellerin hata değerlerine bakarak bu veri seti için kullandığımız modeller\n",
    "arasından en uygun modelin ElasticNet(ENet) regresyson modeli olduğunu gördük."
   ]
  }
 ],
 "metadata": {
  "kernelspec": {
   "display_name": "Python 3",
   "language": "python",
   "name": "python3"
  },
  "language_info": {
   "codemirror_mode": {
    "name": "ipython",
    "version": 3
   },
   "file_extension": ".py",
   "mimetype": "text/x-python",
   "name": "python",
   "nbconvert_exporter": "python",
   "pygments_lexer": "ipython3",
   "version": "3.7.3"
  }
 },
 "nbformat": 4,
 "nbformat_minor": 2
}
