{
 "cells": [
  {
   "cell_type": "code",
   "execution_count": 1,
   "metadata": {},
   "outputs": [],
   "source": [
    "import pandas as pd\n",
    "import numpy as np\n",
    "import statsmodels.api as sm\n",
    "from sklearn.model_selection import train_test_split,cross_val_score\n",
    "from sklearn.linear_model import LinearRegression\n",
    "import matplotlib.pyplot as plt\n",
    "import seaborn as sns\n",
    "from sklearn.metrics import mean_squared_error,r2_score"
   ]
  },
  {
   "cell_type": "code",
   "execution_count": 2,
   "metadata": {},
   "outputs": [
    {
     "data": {
      "text/html": [
       "<div>\n",
       "<style scoped>\n",
       "    .dataframe tbody tr th:only-of-type {\n",
       "        vertical-align: middle;\n",
       "    }\n",
       "\n",
       "    .dataframe tbody tr th {\n",
       "        vertical-align: top;\n",
       "    }\n",
       "\n",
       "    .dataframe thead th {\n",
       "        text-align: right;\n",
       "    }\n",
       "</style>\n",
       "<table border=\"1\" class=\"dataframe\">\n",
       "  <thead>\n",
       "    <tr style=\"text-align: right;\">\n",
       "      <th></th>\n",
       "      <th>TV</th>\n",
       "      <th>radio</th>\n",
       "      <th>newspaper</th>\n",
       "      <th>sales</th>\n",
       "    </tr>\n",
       "  </thead>\n",
       "  <tbody>\n",
       "    <tr>\n",
       "      <th>0</th>\n",
       "      <td>230.1</td>\n",
       "      <td>37.8</td>\n",
       "      <td>69.2</td>\n",
       "      <td>22.1</td>\n",
       "    </tr>\n",
       "    <tr>\n",
       "      <th>1</th>\n",
       "      <td>44.5</td>\n",
       "      <td>39.3</td>\n",
       "      <td>45.1</td>\n",
       "      <td>10.4</td>\n",
       "    </tr>\n",
       "    <tr>\n",
       "      <th>2</th>\n",
       "      <td>17.2</td>\n",
       "      <td>45.9</td>\n",
       "      <td>69.3</td>\n",
       "      <td>9.3</td>\n",
       "    </tr>\n",
       "    <tr>\n",
       "      <th>3</th>\n",
       "      <td>151.5</td>\n",
       "      <td>41.3</td>\n",
       "      <td>58.5</td>\n",
       "      <td>18.5</td>\n",
       "    </tr>\n",
       "    <tr>\n",
       "      <th>4</th>\n",
       "      <td>180.8</td>\n",
       "      <td>10.8</td>\n",
       "      <td>58.4</td>\n",
       "      <td>12.9</td>\n",
       "    </tr>\n",
       "  </tbody>\n",
       "</table>\n",
       "</div>"
      ],
      "text/plain": [
       "      TV  radio  newspaper  sales\n",
       "0  230.1   37.8       69.2   22.1\n",
       "1   44.5   39.3       45.1   10.4\n",
       "2   17.2   45.9       69.3    9.3\n",
       "3  151.5   41.3       58.5   18.5\n",
       "4  180.8   10.8       58.4   12.9"
      ]
     },
     "execution_count": 2,
     "metadata": {},
     "output_type": "execute_result"
    }
   ],
   "source": [
    "#Doğrusal regresyon modeli kurarken kullandığımız veri setini kullanacağız.\n",
    "#Veri setini ekleyip kopyasını alıp düzenleme yapalım.\n",
    "data=pd.read_csv(\"Advertising.csv\")\n",
    "df=data.copy()\n",
    "df=df.iloc[:,1:]\n",
    "df.head()"
   ]
  },
  {
   "cell_type": "code",
   "execution_count": 3,
   "metadata": {},
   "outputs": [],
   "source": [
    "#Değişkenleri ve çıktıları ayıralım.\n",
    "#Çoklu doğrusal regresyon kullanacağımız için bu sefer modele diğer değişkenler de eklenecek.\n",
    "x=df.iloc[:,0:3]\n",
    "y=df[\"sales\"]"
   ]
  },
  {
   "cell_type": "code",
   "execution_count": 4,
   "metadata": {},
   "outputs": [],
   "source": [
    "#Veri setini eğitim ve test olarak 2 bölüme ayırıyoruz.\n",
    "#Eğitim kısmıyla modeli eğitip sonra da test edeceğiz.\n",
    "#Eğitim ve test küme oranları genel olarak %70-%30,%80-%20 tercih edilir.\n",
    "#Random_state parametresi her çalıştığında aynı sonuçları getirmesini sağlar.\n",
    "x_train,x_test,y_train,y_test=train_test_split(x,y,test_size=0.25,random_state=66)"
   ]
  },
  {
   "cell_type": "code",
   "execution_count": 5,
   "metadata": {},
   "outputs": [],
   "source": [
    "#Statsmodels kütüphanesinden OLS fonksiyonunu kullanarak modeli kuralım.\n",
    "lm=sm.OLS(y_train,x_train)\n",
    "model=lm.fit()"
   ]
  },
  {
   "cell_type": "code",
   "execution_count": 6,
   "metadata": {
    "scrolled": false
   },
   "outputs": [
    {
     "data": {
      "text/html": [
       "<table class=\"simpletable\">\n",
       "<caption>OLS Regression Results</caption>\n",
       "<tr>\n",
       "  <th>Dep. Variable:</th>          <td>sales</td>      <th>  R-squared (uncentered):</th>      <td>   0.982</td> \n",
       "</tr>\n",
       "<tr>\n",
       "  <th>Model:</th>                   <td>OLS</td>       <th>  Adj. R-squared (uncentered):</th> <td>   0.982</td> \n",
       "</tr>\n",
       "<tr>\n",
       "  <th>Method:</th>             <td>Least Squares</td>  <th>  F-statistic:       </th>          <td>   2706.</td> \n",
       "</tr>\n",
       "<tr>\n",
       "  <th>Date:</th>             <td>Sun, 26 Jul 2020</td> <th>  Prob (F-statistic):</th>          <td>2.31e-128</td>\n",
       "</tr>\n",
       "<tr>\n",
       "  <th>Time:</th>                 <td>20:34:40</td>     <th>  Log-Likelihood:    </th>          <td> -315.44</td> \n",
       "</tr>\n",
       "<tr>\n",
       "  <th>No. Observations:</th>      <td>   150</td>      <th>  AIC:               </th>          <td>   636.9</td> \n",
       "</tr>\n",
       "<tr>\n",
       "  <th>Df Residuals:</th>          <td>   147</td>      <th>  BIC:               </th>          <td>   645.9</td> \n",
       "</tr>\n",
       "<tr>\n",
       "  <th>Df Model:</th>              <td>     3</td>      <th>                     </th>              <td> </td>    \n",
       "</tr>\n",
       "<tr>\n",
       "  <th>Covariance Type:</th>      <td>nonrobust</td>    <th>                     </th>              <td> </td>    \n",
       "</tr>\n",
       "</table>\n",
       "<table class=\"simpletable\">\n",
       "<tr>\n",
       "      <td></td>         <th>coef</th>     <th>std err</th>      <th>t</th>      <th>P>|t|</th>  <th>[0.025</th>    <th>0.975]</th>  \n",
       "</tr>\n",
       "<tr>\n",
       "  <th>TV</th>        <td>    0.0530</td> <td>    0.001</td> <td>   35.400</td> <td> 0.000</td> <td>    0.050</td> <td>    0.056</td>\n",
       "</tr>\n",
       "<tr>\n",
       "  <th>radio</th>     <td>    0.2253</td> <td>    0.011</td> <td>   20.209</td> <td> 0.000</td> <td>    0.203</td> <td>    0.247</td>\n",
       "</tr>\n",
       "<tr>\n",
       "  <th>newspaper</th> <td>    0.0178</td> <td>    0.008</td> <td>    2.310</td> <td> 0.022</td> <td>    0.003</td> <td>    0.033</td>\n",
       "</tr>\n",
       "</table>\n",
       "<table class=\"simpletable\">\n",
       "<tr>\n",
       "  <th>Omnibus:</th>       <td> 0.164</td> <th>  Durbin-Watson:     </th> <td>   1.889</td>\n",
       "</tr>\n",
       "<tr>\n",
       "  <th>Prob(Omnibus):</th> <td> 0.921</td> <th>  Jarque-Bera (JB):  </th> <td>   0.026</td>\n",
       "</tr>\n",
       "<tr>\n",
       "  <th>Skew:</th>          <td>-0.024</td> <th>  Prob(JB):          </th> <td>   0.987</td>\n",
       "</tr>\n",
       "<tr>\n",
       "  <th>Kurtosis:</th>      <td> 3.044</td> <th>  Cond. No.          </th> <td>    13.1</td>\n",
       "</tr>\n",
       "</table><br/><br/>Warnings:<br/>[1] Standard Errors assume that the covariance matrix of the errors is correctly specified."
      ],
      "text/plain": [
       "<class 'statsmodels.iolib.summary.Summary'>\n",
       "\"\"\"\n",
       "                                 OLS Regression Results                                \n",
       "=======================================================================================\n",
       "Dep. Variable:                  sales   R-squared (uncentered):                   0.982\n",
       "Model:                            OLS   Adj. R-squared (uncentered):              0.982\n",
       "Method:                 Least Squares   F-statistic:                              2706.\n",
       "Date:                Sun, 26 Jul 2020   Prob (F-statistic):                   2.31e-128\n",
       "Time:                        20:34:40   Log-Likelihood:                         -315.44\n",
       "No. Observations:                 150   AIC:                                      636.9\n",
       "Df Residuals:                     147   BIC:                                      645.9\n",
       "Df Model:                           3                                                  \n",
       "Covariance Type:            nonrobust                                                  \n",
       "==============================================================================\n",
       "                 coef    std err          t      P>|t|      [0.025      0.975]\n",
       "------------------------------------------------------------------------------\n",
       "TV             0.0530      0.001     35.400      0.000       0.050       0.056\n",
       "radio          0.2253      0.011     20.209      0.000       0.203       0.247\n",
       "newspaper      0.0178      0.008      2.310      0.022       0.003       0.033\n",
       "==============================================================================\n",
       "Omnibus:                        0.164   Durbin-Watson:                   1.889\n",
       "Prob(Omnibus):                  0.921   Jarque-Bera (JB):                0.026\n",
       "Skew:                          -0.024   Prob(JB):                        0.987\n",
       "Kurtosis:                       3.044   Cond. No.                         13.1\n",
       "==============================================================================\n",
       "\n",
       "Warnings:\n",
       "[1] Standard Errors assume that the covariance matrix of the errors is correctly specified.\n",
       "\"\"\""
      ]
     },
     "execution_count": 6,
     "metadata": {},
     "output_type": "execute_result"
    }
   ],
   "source": [
    "#Modelin istatistiksel detayları.\n",
    "model.summary()\n",
    "#3 değişkeni de kullanarak veri setinin %98'ini açıklayabilmiş.\n",
    "#Düzeltilmiş r2 değeri oldukça yüksek, kabul edilebilir bir tahmin.\n",
    "#Değişkenlerin p-value değerler 0.05 in altında, kabul edilebilir."
   ]
  },
  {
   "cell_type": "code",
   "execution_count": 7,
   "metadata": {},
   "outputs": [
    {
     "data": {
      "text/plain": [
       "TV           0.053021\n",
       "radio        0.225284\n",
       "newspaper    0.017780\n",
       "dtype: float64"
      ]
     },
     "execution_count": 7,
     "metadata": {},
     "output_type": "execute_result"
    }
   ],
   "source": [
    "#Katsayıları görebilim.\n",
    "model.params"
   ]
  },
  {
   "cell_type": "code",
   "execution_count": 8,
   "metadata": {},
   "outputs": [
    {
     "data": {
      "text/plain": [
       "'Sales =  TV * 0.053 +  radio * 0.225 +  newspaper * 0.018'"
      ]
     },
     "execution_count": 8,
     "metadata": {},
     "output_type": "execute_result"
    }
   ],
   "source": [
    "#Modelin oluşturduğu denklemini yazdıralım.\n",
    "denklem=(\"Sales = \"+\" TV * \"+(\"%.3f\"%model.params[0])+\" + \"\n",
    "                                                    +\" radio * \"+(\"%.3f\"%model.params[1])+\" + \"\n",
    "                                                    +\" newspaper * \"+(\"%.3f\"%model.params[2]))\n",
    "denklem"
   ]
  },
  {
   "cell_type": "code",
   "execution_count": 9,
   "metadata": {},
   "outputs": [],
   "source": [
    "#Kurulan modele test kümesini tahmin ettirelim.\n",
    "y_pred=model.predict(x_test)"
   ]
  },
  {
   "cell_type": "code",
   "execution_count": 10,
   "metadata": {},
   "outputs": [
    {
     "name": "stdout",
     "output_type": "stream",
     "text": [
      "Test hatası:  2.103991819437452\n"
     ]
    }
   ],
   "source": [
    "#Modelin hata kareler ortalaması.\n",
    "print(\"Test hatası: \",np.sqrt(mean_squared_error(y_test,y_pred)))"
   ]
  },
  {
   "cell_type": "code",
   "execution_count": 11,
   "metadata": {},
   "outputs": [
    {
     "data": {
      "image/png": "[encoded data removed]",
      "text/plain": [
       "<Figure size 864x576 with 1 Axes>"
      ]
     },
     "metadata": {
      "needs_background": "light"
     },
     "output_type": "display_data"
    }
   ],
   "source": [
    "#Tahmin ve gerçek çıktılar arasındaki farkı görmek için grafiğe dökelim.\n",
    "plt.figure(figsize=(12,8))\n",
    "plt.title(denklem)\n",
    "plt.plot(y_test[:20],\"o\")\n",
    "plt.plot(y_pred[:20],\"o\")\n",
    "plt.legend([\"Gerçek\",\"Tahmin\"]);\n",
    "#Her bir gözlem için dikey olarak gerçek değer ve tahmin değeri gösterdik."
   ]
  },
  {
   "cell_type": "code",
   "execution_count": 12,
   "metadata": {},
   "outputs": [],
   "source": [
    "#Sklearn kütüphanesini kullanarak model kuralım.\n",
    "lm=LinearRegression()\n",
    "model2=lm.fit(x_train,y_train)"
   ]
  },
  {
   "cell_type": "code",
   "execution_count": 13,
   "metadata": {},
   "outputs": [
    {
     "name": "stdout",
     "output_type": "stream",
     "text": [
      "2.9884709806055856 [ 0.04501235  0.1905282  -0.00070412]\n"
     ]
    }
   ],
   "source": [
    "print(model2.intercept_,model2.coef_)"
   ]
  },
  {
   "cell_type": "code",
   "execution_count": 14,
   "metadata": {},
   "outputs": [
    {
     "data": {
      "text/plain": [
       "'Sales = 2.988 TV * 0.045 +  radio * 0.191 +  newspaper * -0.001'"
      ]
     },
     "execution_count": 14,
     "metadata": {},
     "output_type": "execute_result"
    }
   ],
   "source": [
    "#Modelin oluşturduğu denklemini yazdıralım.\n",
    "denklem2=(\"Sales = \"+str(\"%.3f\"%model2.intercept_)+\" TV * \"\n",
    "                    +str(\"%.3f\"%model2.coef_[0])+\" + \"\n",
    "                    +\" radio * \"+str(\"%.3f\"%model2.coef_[1])+\" + \"\n",
    "                    +\" newspaper * \"+str(\"%.3f\"%model2.coef_[2]))\n",
    "denklem2"
   ]
  },
  {
   "cell_type": "code",
   "execution_count": 15,
   "metadata": {},
   "outputs": [
    {
     "data": {
      "text/plain": [
       "array([13.27411062,  6.18867737, 23.16057156, 15.62124682, 20.64628512,\n",
       "       22.23831916, 13.63778842,  3.63631845,  7.09840981,  9.9962679 ])"
      ]
     },
     "execution_count": 15,
     "metadata": {},
     "output_type": "execute_result"
    }
   ],
   "source": [
    "#Modele çıktı değerlerini tahmin ettirelim.\n",
    "y_pred2=model2.predict(x_train)\n",
    "y_pred3=model2.predict(x_test)\n",
    "y_pred3[:10]"
   ]
  },
  {
   "cell_type": "code",
   "execution_count": 16,
   "metadata": {},
   "outputs": [
    {
     "data": {
      "text/plain": [
       "167    13.274111\n",
       "106     6.188677\n",
       "17     23.160572\n",
       "118    15.621247\n",
       "52     20.646285\n",
       "128    22.238319\n",
       "174    13.637788\n",
       "108     3.636318\n",
       "107     7.098410\n",
       "18      9.996268\n",
       "dtype: float64"
      ]
     },
     "execution_count": 16,
     "metadata": {},
     "output_type": "execute_result"
    }
   ],
   "source": [
    "#LinearRegressin modelinde tahmin çıktıları array şeklinde döner.\n",
    "#Düzgün bir şekilde görselleştirmek istiyorsak indexlememiz gerekir.\n",
    "y_pred2=pd.Series(y_pred2,index=x_train.index)\n",
    "y_pred3=pd.Series(y_pred3,index=x_test.index)\n",
    "y_pred3[:10]"
   ]
  },
  {
   "cell_type": "code",
   "execution_count": 17,
   "metadata": {},
   "outputs": [
    {
     "name": "stdout",
     "output_type": "stream",
     "text": [
      "Eğitim r2 skoru: 0.9028589209957651\n",
      "Test r2 skoru: 0.8797817114430063\n"
     ]
    }
   ],
   "source": [
    "#Modelimizin r2 skorları.\n",
    "print(\"Eğitim r2 skoru:\",r2_score(y_train,y_pred2))\n",
    "print(\"Test r2 skoru:\",r2_score(y_test,y_pred3))"
   ]
  },
  {
   "cell_type": "code",
   "execution_count": 18,
   "metadata": {
    "scrolled": true
   },
   "outputs": [
    {
     "name": "stdout",
     "output_type": "stream",
     "text": [
      "Eğitim hatası:  1.6136823864357055\n",
      "Test hatası:  1.8288095684776868\n"
     ]
    }
   ],
   "source": [
    "#Modelin hata kareler ortalaması.\n",
    "#LinearRegression fonksiyonu sabit kat sayı ekledeği için hata ortalaması daha düşün çıktı.\n",
    "print(\"Eğitim hatası: \",np.sqrt(mean_squared_error(y_train,y_pred2)))\n",
    "print(\"Test hatası: \",np.sqrt(mean_squared_error(y_test,y_pred3)))"
   ]
  },
  {
   "cell_type": "code",
   "execution_count": 19,
   "metadata": {},
   "outputs": [
    {
     "data": {
      "image/png": "[encoded data removed]",
      "text/plain": [
       "<Figure size 864x576 with 1 Axes>"
      ]
     },
     "metadata": {
      "needs_background": "light"
     },
     "output_type": "display_data"
    }
   ],
   "source": [
    "#Gerçek ve tahmin değerleri grafikte daha net görelim.\n",
    "plt.figure(figsize=(12,8))\n",
    "plt.plot(y_test[:20],\"v\")\n",
    "plt.plot(y_pred3[:20],\"v\")\n",
    "plt.title(denklem2)\n",
    "plt.legend([\"Gerçek\",\"Tahmin\"]);"
   ]
  }
 ],
 "metadata": {
  "kernelspec": {
   "display_name": "Python 3",
   "language": "python",
   "name": "python3"
  },
  "language_info": {
   "codemirror_mode": {
    "name": "ipython",
    "version": 3
   },
   "file_extension": ".py",
   "mimetype": "text/x-python",
   "name": "python",
   "nbconvert_exporter": "python",
   "pygments_lexer": "ipython3",
   "version": "3.7.3"
  }
 },
 "nbformat": 4,
 "nbformat_minor": 2
}
