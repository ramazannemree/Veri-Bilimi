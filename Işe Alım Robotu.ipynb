{
 "cells": [
  {
   "cell_type": "markdown",
   "metadata": {},
   "source": [
    "## Çalışma\n",
    "\n",
    "Daha önce X şirketine başvuran 1000 adaydan 100'ü işe alınmış olsun. Her adayın 4 özelliği olsun, ama sadece iki özelliği işe alınma için gerçekten ayırt edici olsun.\n",
    "\n",
    "Özellikler\n",
    " - __Önemli__ : Social Skills, Knowledge in algorithms\n",
    " - __Önemsiz__ : GPA, Age\n",
    " \n",
    "Bu özelliklerin tümünün 0 ile 5 arasında değer aldığını kabul ediyoruz. \n",
    " \n",
    "İşe alınanlar\n",
    " - Social Skills ve Knowledge in algorithms 5 üzerinden 5e yakın rastgele sayilar\n",
    " - Diğer özellikler GPA, Age önemli değil\n",
    " \n",
    "İşe alınmayanlar ise\n",
    " - Social Skills ve Knowledge in algorithms 5 üzerinden 1e yakın rastgele sayilar\n",
    " - Diğer özellikler GPA, Age önemli değil\n",
    "\n",
    "Öncelikle bu veri setini oluşturalım"
   ]
  },
  {
   "cell_type": "markdown",
   "metadata": {},
   "source": [
    "## Kutuphaneler"
   ]
  },
  {
   "cell_type": "code",
   "execution_count": 8,
   "metadata": {},
   "outputs": [],
   "source": [
    "import numpy as np\n",
    "import pandas as pd\n",
    "import matplotlib.pyplot as plt\n",
    "\n",
    "np.random.seed(2019)"
   ]
  },
  {
   "cell_type": "markdown",
   "metadata": {},
   "source": [
    "## Rastgele sayi uretme\n",
    "\n",
    "Belirlenen min ve max degeri arasinda ortalaması mu olan, standart sapması 1 olan normal dagilimdan sayi uretme."
   ]
  },
  {
   "cell_type": "code",
   "execution_count": 9,
   "metadata": {},
   "outputs": [],
   "source": [
    "def generate(mu = None, minval = 0, maxval = 5):\n",
    "    # Eger mu None ise, mu degeri minval ve maxval in ortalaması olsun\n",
    "    if mu == None: \n",
    "        mu=(minval+maxval)/2\n",
    "    \n",
    "    # val ortalaması mu olan, standart sapması 1 olan normal dagilimdan rastgele sayi \n",
    "    val = np.random.normal(loc=mu,scale=1)\n",
    "    \n",
    "    # Eger val, maxval'den buyukse veye minval'den kucukse, sayıyı tekrar uret\n",
    "    while val>maxval or val<minval :\n",
    "        val = np.random.normal(loc=mu,scale=1)\n",
    "    return val"
   ]
  },
  {
   "cell_type": "markdown",
   "metadata": {},
   "source": [
    "## Basarili adaylar\n",
    "\n",
    " - Basarili adaylarin onemli ozelliklerini uretelim\n",
    " \n",
    "#### İşe alınan başarılı adayların özellikleri\n",
    "\n",
    "Yukarıdaki `generate` fonksiyonu ile verimizi olusturalım.\n",
    "\n",
    " - Social Skills ve Knowledge in algorithms 5 üzerinden 5e yakın rastgele sayilar\n",
    " - Diğer özellikler GPA, Age önemli değil"
   ]
  },
  {
   "cell_type": "markdown",
   "metadata": {},
   "source": [
    "### Basarisiz Adaylar\n",
    "\n",
    "#### İşe alınmayan başarısız adayların özellikleri ise\n",
    " - Social Skills ve Knowledge in algorithms 5 üzerinden 1e yakın rastgele sayilar\n",
    " - Diğer özellikler GPA, Age önemli değil"
   ]
  },
  {
   "cell_type": "markdown",
   "metadata": {},
   "source": [
    "# Veri Setini olusturalim\n",
    "\n",
    "Başarılı Adaylar\n",
    "> Ilk yüz kişi başarılı, \n",
    " - target = 1\n",
    " - Social Skills ve Knowledge in algorithms 5 üzerinden 5e yakın rastgele sayilar\n",
    " - GPA ve AGE, 0 ve 5 arasinda rastgele sayilar\n",
    "\n",
    "Başarısız Adaylar\n",
    "> Geri kalan 900 kişi başarısız\n",
    " - target = 0\n",
    " - Social Skills ve Knowledge in algorithms 5 üzerinden 1e yakın rastgele sayilar\n",
    " - GPA ve AGE, 0 ve 5 arasinda rastgele sayilar"
   ]
  },
  {
   "cell_type": "code",
   "execution_count": 20,
   "metadata": {},
   "outputs": [],
   "source": [
    "# 1 basarili , 0 basarisiz\n",
    "target = [1 for i in range(100)] + [0 for i in range(900)]\n",
    "\n",
    "social_skills = [generate(None,2,5) for i in range(100)] + [generate(None,0,3) for i in range(900)]\n",
    "algorithm_knowledge = [generate(None,2,5) for i in range(100)] + [generate(None,0,3) for i in range(900)]\n",
    "GPA = [generate(None,0,5) for i in range(100)] + [generate(None,0,5) for i in range(900)]\n",
    "Age = [generate(None,0,5) for i in range(100)] + [generate(None,0,5) for i in range(900)]"
   ]
  },
  {
   "cell_type": "markdown",
   "metadata": {},
   "source": [
    "Veri dictionary'si oluşturalım ardından, verimizi pandas dataframe'e dönüştürelim"
   ]
  },
  {
   "cell_type": "code",
   "execution_count": 21,
   "metadata": {},
   "outputs": [],
   "source": [
    "datadict = {\"social\":social_skills, \"algorithm\":algorithm_knowledge, \"gpa\":GPA, \"age\":Age, \"y\":target}\n",
    "data = pd.DataFrame.from_dict(datadict)"
   ]
  },
  {
   "cell_type": "markdown",
   "metadata": {},
   "source": [
    "ilk 7 veri"
   ]
  },
  {
   "cell_type": "code",
   "execution_count": 22,
   "metadata": {},
   "outputs": [
    {
     "data": {
      "text/html": [
       "<div>\n",
       "<style scoped>\n",
       "    .dataframe tbody tr th:only-of-type {\n",
       "        vertical-align: middle;\n",
       "    }\n",
       "\n",
       "    .dataframe tbody tr th {\n",
       "        vertical-align: top;\n",
       "    }\n",
       "\n",
       "    .dataframe thead th {\n",
       "        text-align: right;\n",
       "    }\n",
       "</style>\n",
       "<table border=\"1\" class=\"dataframe\">\n",
       "  <thead>\n",
       "    <tr style=\"text-align: right;\">\n",
       "      <th></th>\n",
       "      <th>social</th>\n",
       "      <th>algorithm</th>\n",
       "      <th>gpa</th>\n",
       "      <th>age</th>\n",
       "      <th>y</th>\n",
       "    </tr>\n",
       "  </thead>\n",
       "  <tbody>\n",
       "    <tr>\n",
       "      <th>0</th>\n",
       "      <td>2.468269</td>\n",
       "      <td>3.227697</td>\n",
       "      <td>3.179376</td>\n",
       "      <td>2.431196</td>\n",
       "      <td>1</td>\n",
       "    </tr>\n",
       "    <tr>\n",
       "      <th>1</th>\n",
       "      <td>3.175003</td>\n",
       "      <td>3.540276</td>\n",
       "      <td>2.244786</td>\n",
       "      <td>1.404903</td>\n",
       "      <td>1</td>\n",
       "    </tr>\n",
       "    <tr>\n",
       "      <th>2</th>\n",
       "      <td>2.094020</td>\n",
       "      <td>4.022025</td>\n",
       "      <td>4.043925</td>\n",
       "      <td>1.640956</td>\n",
       "      <td>1</td>\n",
       "    </tr>\n",
       "    <tr>\n",
       "      <th>3</th>\n",
       "      <td>4.399757</td>\n",
       "      <td>2.433536</td>\n",
       "      <td>2.886037</td>\n",
       "      <td>2.291038</td>\n",
       "      <td>1</td>\n",
       "    </tr>\n",
       "    <tr>\n",
       "      <th>4</th>\n",
       "      <td>2.830749</td>\n",
       "      <td>3.437761</td>\n",
       "      <td>1.383176</td>\n",
       "      <td>1.083624</td>\n",
       "      <td>1</td>\n",
       "    </tr>\n",
       "    <tr>\n",
       "      <th>5</th>\n",
       "      <td>2.965654</td>\n",
       "      <td>3.426554</td>\n",
       "      <td>2.473995</td>\n",
       "      <td>3.850980</td>\n",
       "      <td>1</td>\n",
       "    </tr>\n",
       "    <tr>\n",
       "      <th>6</th>\n",
       "      <td>4.835768</td>\n",
       "      <td>2.936060</td>\n",
       "      <td>2.954815</td>\n",
       "      <td>3.194945</td>\n",
       "      <td>1</td>\n",
       "    </tr>\n",
       "  </tbody>\n",
       "</table>\n",
       "</div>"
      ],
      "text/plain": [
       "     social  algorithm       gpa       age  y\n",
       "0  2.468269   3.227697  3.179376  2.431196  1\n",
       "1  3.175003   3.540276  2.244786  1.404903  1\n",
       "2  2.094020   4.022025  4.043925  1.640956  1\n",
       "3  4.399757   2.433536  2.886037  2.291038  1\n",
       "4  2.830749   3.437761  1.383176  1.083624  1\n",
       "5  2.965654   3.426554  2.473995  3.850980  1\n",
       "6  4.835768   2.936060  2.954815  3.194945  1"
      ]
     },
     "execution_count": 22,
     "metadata": {},
     "output_type": "execute_result"
    }
   ],
   "source": [
    "data.head(7)"
   ]
  },
  {
   "cell_type": "markdown",
   "metadata": {},
   "source": [
    "son 7 veri"
   ]
  },
  {
   "cell_type": "code",
   "execution_count": 23,
   "metadata": {},
   "outputs": [
    {
     "data": {
      "text/html": [
       "<div>\n",
       "<style scoped>\n",
       "    .dataframe tbody tr th:only-of-type {\n",
       "        vertical-align: middle;\n",
       "    }\n",
       "\n",
       "    .dataframe tbody tr th {\n",
       "        vertical-align: top;\n",
       "    }\n",
       "\n",
       "    .dataframe thead th {\n",
       "        text-align: right;\n",
       "    }\n",
       "</style>\n",
       "<table border=\"1\" class=\"dataframe\">\n",
       "  <thead>\n",
       "    <tr style=\"text-align: right;\">\n",
       "      <th></th>\n",
       "      <th>social</th>\n",
       "      <th>algorithm</th>\n",
       "      <th>gpa</th>\n",
       "      <th>age</th>\n",
       "      <th>y</th>\n",
       "    </tr>\n",
       "  </thead>\n",
       "  <tbody>\n",
       "    <tr>\n",
       "      <th>993</th>\n",
       "      <td>0.933521</td>\n",
       "      <td>0.722243</td>\n",
       "      <td>2.200997</td>\n",
       "      <td>1.891647</td>\n",
       "      <td>0</td>\n",
       "    </tr>\n",
       "    <tr>\n",
       "      <th>994</th>\n",
       "      <td>2.460574</td>\n",
       "      <td>2.263457</td>\n",
       "      <td>4.336986</td>\n",
       "      <td>3.303576</td>\n",
       "      <td>0</td>\n",
       "    </tr>\n",
       "    <tr>\n",
       "      <th>995</th>\n",
       "      <td>1.461161</td>\n",
       "      <td>2.858184</td>\n",
       "      <td>3.782697</td>\n",
       "      <td>2.334462</td>\n",
       "      <td>0</td>\n",
       "    </tr>\n",
       "    <tr>\n",
       "      <th>996</th>\n",
       "      <td>0.443550</td>\n",
       "      <td>0.027143</td>\n",
       "      <td>2.685302</td>\n",
       "      <td>0.836798</td>\n",
       "      <td>0</td>\n",
       "    </tr>\n",
       "    <tr>\n",
       "      <th>997</th>\n",
       "      <td>2.578458</td>\n",
       "      <td>0.749091</td>\n",
       "      <td>1.412054</td>\n",
       "      <td>0.146191</td>\n",
       "      <td>0</td>\n",
       "    </tr>\n",
       "    <tr>\n",
       "      <th>998</th>\n",
       "      <td>0.618336</td>\n",
       "      <td>0.682618</td>\n",
       "      <td>3.362309</td>\n",
       "      <td>3.358347</td>\n",
       "      <td>0</td>\n",
       "    </tr>\n",
       "    <tr>\n",
       "      <th>999</th>\n",
       "      <td>2.998107</td>\n",
       "      <td>2.490219</td>\n",
       "      <td>2.519781</td>\n",
       "      <td>0.540385</td>\n",
       "      <td>0</td>\n",
       "    </tr>\n",
       "  </tbody>\n",
       "</table>\n",
       "</div>"
      ],
      "text/plain": [
       "       social  algorithm       gpa       age  y\n",
       "993  0.933521   0.722243  2.200997  1.891647  0\n",
       "994  2.460574   2.263457  4.336986  3.303576  0\n",
       "995  1.461161   2.858184  3.782697  2.334462  0\n",
       "996  0.443550   0.027143  2.685302  0.836798  0\n",
       "997  2.578458   0.749091  1.412054  0.146191  0\n",
       "998  0.618336   0.682618  3.362309  3.358347  0\n",
       "999  2.998107   2.490219  2.519781  0.540385  0"
      ]
     },
     "execution_count": 23,
     "metadata": {},
     "output_type": "execute_result"
    }
   ],
   "source": [
    "data.tail(7)"
   ]
  },
  {
   "cell_type": "markdown",
   "metadata": {},
   "source": [
    "Veri Özellikleri"
   ]
  },
  {
   "cell_type": "code",
   "execution_count": 24,
   "metadata": {},
   "outputs": [
    {
     "data": {
      "text/html": [
       "<div>\n",
       "<style scoped>\n",
       "    .dataframe tbody tr th:only-of-type {\n",
       "        vertical-align: middle;\n",
       "    }\n",
       "\n",
       "    .dataframe tbody tr th {\n",
       "        vertical-align: top;\n",
       "    }\n",
       "\n",
       "    .dataframe thead th {\n",
       "        text-align: right;\n",
       "    }\n",
       "</style>\n",
       "<table border=\"1\" class=\"dataframe\">\n",
       "  <thead>\n",
       "    <tr style=\"text-align: right;\">\n",
       "      <th></th>\n",
       "      <th>count</th>\n",
       "      <th>mean</th>\n",
       "      <th>std</th>\n",
       "      <th>min</th>\n",
       "      <th>25%</th>\n",
       "      <th>50%</th>\n",
       "      <th>75%</th>\n",
       "      <th>max</th>\n",
       "    </tr>\n",
       "  </thead>\n",
       "  <tbody>\n",
       "    <tr>\n",
       "      <th>social</th>\n",
       "      <td>1000.0</td>\n",
       "      <td>1.757536</td>\n",
       "      <td>0.970452</td>\n",
       "      <td>0.000766</td>\n",
       "      <td>1.021212</td>\n",
       "      <td>1.708486</td>\n",
       "      <td>2.344221</td>\n",
       "      <td>4.986237</td>\n",
       "    </tr>\n",
       "    <tr>\n",
       "      <th>algorithm</th>\n",
       "      <td>1000.0</td>\n",
       "      <td>1.705288</td>\n",
       "      <td>0.967771</td>\n",
       "      <td>0.003102</td>\n",
       "      <td>0.983363</td>\n",
       "      <td>1.637078</td>\n",
       "      <td>2.324823</td>\n",
       "      <td>4.927410</td>\n",
       "    </tr>\n",
       "    <tr>\n",
       "      <th>gpa</th>\n",
       "      <td>1000.0</td>\n",
       "      <td>2.479954</td>\n",
       "      <td>0.957557</td>\n",
       "      <td>0.015277</td>\n",
       "      <td>1.799917</td>\n",
       "      <td>2.474158</td>\n",
       "      <td>3.166857</td>\n",
       "      <td>4.906796</td>\n",
       "    </tr>\n",
       "    <tr>\n",
       "      <th>age</th>\n",
       "      <td>1000.0</td>\n",
       "      <td>2.488929</td>\n",
       "      <td>0.937915</td>\n",
       "      <td>0.146191</td>\n",
       "      <td>1.831484</td>\n",
       "      <td>2.481713</td>\n",
       "      <td>3.152759</td>\n",
       "      <td>4.917141</td>\n",
       "    </tr>\n",
       "    <tr>\n",
       "      <th>y</th>\n",
       "      <td>1000.0</td>\n",
       "      <td>0.100000</td>\n",
       "      <td>0.300150</td>\n",
       "      <td>0.000000</td>\n",
       "      <td>0.000000</td>\n",
       "      <td>0.000000</td>\n",
       "      <td>0.000000</td>\n",
       "      <td>1.000000</td>\n",
       "    </tr>\n",
       "  </tbody>\n",
       "</table>\n",
       "</div>"
      ],
      "text/plain": [
       "            count      mean       std       min       25%       50%       75%  \\\n",
       "social     1000.0  1.757536  0.970452  0.000766  1.021212  1.708486  2.344221   \n",
       "algorithm  1000.0  1.705288  0.967771  0.003102  0.983363  1.637078  2.324823   \n",
       "gpa        1000.0  2.479954  0.957557  0.015277  1.799917  2.474158  3.166857   \n",
       "age        1000.0  2.488929  0.937915  0.146191  1.831484  2.481713  3.152759   \n",
       "y          1000.0  0.100000  0.300150  0.000000  0.000000  0.000000  0.000000   \n",
       "\n",
       "                max  \n",
       "social     4.986237  \n",
       "algorithm  4.927410  \n",
       "gpa        4.906796  \n",
       "age        4.917141  \n",
       "y          1.000000  "
      ]
     },
     "execution_count": 24,
     "metadata": {},
     "output_type": "execute_result"
    }
   ],
   "source": [
    "data.describe().T"
   ]
  },
  {
   "cell_type": "markdown",
   "metadata": {},
   "source": [
    "## Veriyi kaydet"
   ]
  },
  {
   "cell_type": "code",
   "execution_count": 25,
   "metadata": {},
   "outputs": [],
   "source": [
    "data.to_csv(\"data.csv\", index=False)"
   ]
  },
  {
   "cell_type": "markdown",
   "metadata": {},
   "source": [
    "## Veriyi Oku"
   ]
  },
  {
   "cell_type": "code",
   "execution_count": 26,
   "metadata": {},
   "outputs": [],
   "source": [
    "data = pd.read_csv(\"data.csv\")"
   ]
  },
  {
   "cell_type": "markdown",
   "metadata": {},
   "source": [
    "## Veriyi Ciz"
   ]
  },
  {
   "cell_type": "code",
   "execution_count": 27,
   "metadata": {},
   "outputs": [
    {
     "data": {
      "text/plain": [
       "Text(0.5, 1.0, 'Successful Candidates')"
      ]
     },
     "execution_count": 27,
     "metadata": {},
     "output_type": "execute_result"
    },
    {
     "data": {
      "image/png": "[encoded data removed]",
      "text/plain": [
       "<Figure size 432x288 with 1 Axes>"
      ]
     },
     "metadata": {
      "needs_background": "light"
     },
     "output_type": "display_data"
    }
   ],
   "source": [
    "ax = data[data.y == 1].plot.hist(bins=12, alpha=0.5)\n",
    "plt.title(\"Successful Candidates\")"
   ]
  },
  {
   "cell_type": "code",
   "execution_count": 28,
   "metadata": {},
   "outputs": [
    {
     "data": {
      "text/plain": [
       "Text(0.5, 1.0, 'Unsuccessful Candidates')"
      ]
     },
     "execution_count": 28,
     "metadata": {},
     "output_type": "execute_result"
    },
    {
     "data": {
      "image/png": "[encoded data removed]",
      "text/plain": [
       "<Figure size 432x288 with 1 Axes>"
      ]
     },
     "metadata": {
      "needs_background": "light"
     },
     "output_type": "display_data"
    }
   ],
   "source": [
    "ax = data[data.y==0].plot.hist(bins=12, alpha=0.5)\n",
    "plt.title(\"Unsuccessful Candidates\")"
   ]
  },
  {
   "cell_type": "markdown",
   "metadata": {},
   "source": [
    "## Iki boyutlu Cizim\n",
    "Verinin sadece algoritma ve yas kategorisini cizdir"
   ]
  },
  {
   "cell_type": "code",
   "execution_count": 29,
   "metadata": {},
   "outputs": [
    {
     "data": {
      "text/plain": [
       "<matplotlib.legend.Legend at 0x2295a99e7b8>"
      ]
     },
     "execution_count": 29,
     "metadata": {},
     "output_type": "execute_result"
    },
    {
     "data": {
      "image/png": "[encoded data removed]",
      "text/plain": [
       "<Figure size 432x288 with 1 Axes>"
      ]
     },
     "metadata": {
      "needs_background": "light"
     },
     "output_type": "display_data"
    }
   ],
   "source": [
    "plt.plot(data.algorithm[:100],data.age[:100],\">\",c=\"g\")\n",
    "plt.plot(data.algorithm[101:],data.age[101:],\"x\",c=\"r\")\n",
    "plt.xlabel(\"Knowledge in Algorithms\")\n",
    "plt.ylabel(\"Age Category\")\n",
    "plt.legend([\"Succesful\",\"Unsuccesful\"])"
   ]
  },
  {
   "cell_type": "code",
   "execution_count": 30,
   "metadata": {},
   "outputs": [
    {
     "data": {
      "text/html": [
       "<div>\n",
       "<style scoped>\n",
       "    .dataframe tbody tr th:only-of-type {\n",
       "        vertical-align: middle;\n",
       "    }\n",
       "\n",
       "    .dataframe tbody tr th {\n",
       "        vertical-align: top;\n",
       "    }\n",
       "\n",
       "    .dataframe thead th {\n",
       "        text-align: right;\n",
       "    }\n",
       "</style>\n",
       "<table border=\"1\" class=\"dataframe\">\n",
       "  <thead>\n",
       "    <tr style=\"text-align: right;\">\n",
       "      <th></th>\n",
       "      <th>social</th>\n",
       "      <th>algorithm</th>\n",
       "      <th>gpa</th>\n",
       "      <th>age</th>\n",
       "      <th>y</th>\n",
       "    </tr>\n",
       "  </thead>\n",
       "  <tbody>\n",
       "    <tr>\n",
       "      <th>0</th>\n",
       "      <td>2.468269</td>\n",
       "      <td>3.227697</td>\n",
       "      <td>3.179376</td>\n",
       "      <td>2.431196</td>\n",
       "      <td>1</td>\n",
       "    </tr>\n",
       "    <tr>\n",
       "      <th>1</th>\n",
       "      <td>3.175003</td>\n",
       "      <td>3.540276</td>\n",
       "      <td>2.244786</td>\n",
       "      <td>1.404903</td>\n",
       "      <td>1</td>\n",
       "    </tr>\n",
       "    <tr>\n",
       "      <th>2</th>\n",
       "      <td>2.094020</td>\n",
       "      <td>4.022025</td>\n",
       "      <td>4.043925</td>\n",
       "      <td>1.640956</td>\n",
       "      <td>1</td>\n",
       "    </tr>\n",
       "    <tr>\n",
       "      <th>3</th>\n",
       "      <td>4.399757</td>\n",
       "      <td>2.433536</td>\n",
       "      <td>2.886037</td>\n",
       "      <td>2.291038</td>\n",
       "      <td>1</td>\n",
       "    </tr>\n",
       "    <tr>\n",
       "      <th>4</th>\n",
       "      <td>2.830749</td>\n",
       "      <td>3.437761</td>\n",
       "      <td>1.383176</td>\n",
       "      <td>1.083624</td>\n",
       "      <td>1</td>\n",
       "    </tr>\n",
       "  </tbody>\n",
       "</table>\n",
       "</div>"
      ],
      "text/plain": [
       "     social  algorithm       gpa       age  y\n",
       "0  2.468269   3.227697  3.179376  2.431196  1\n",
       "1  3.175003   3.540276  2.244786  1.404903  1\n",
       "2  2.094020   4.022025  4.043925  1.640956  1\n",
       "3  4.399757   2.433536  2.886037  2.291038  1\n",
       "4  2.830749   3.437761  1.383176  1.083624  1"
      ]
     },
     "execution_count": 30,
     "metadata": {},
     "output_type": "execute_result"
    }
   ],
   "source": [
    "data.head()"
   ]
  },
  {
   "cell_type": "markdown",
   "metadata": {},
   "source": [
    "## Veri Matrisini Olusuturalim\n",
    "\n",
    "### X \n",
    "$[1000, 4]$ boyutlu\n",
    " - Verinin ilk 4 kolonu, adaylarin bilgilerini içeriyor\n",
    "\n",
    "### y \n",
    "$[1000, 1]$ boyutlu\n",
    " - Verinin son kolonu, kabul ya da red bilgisini içeriyor\n"
   ]
  },
  {
   "cell_type": "code",
   "execution_count": 31,
   "metadata": {},
   "outputs": [],
   "source": [
    "# numpy e donustur\n",
    "M = data.values\n",
    "\n",
    "# butun colonlar, son y kolonu haric\n",
    "X = M[:,:4]\n",
    "y = M[:,-1]"
   ]
  },
  {
   "cell_type": "code",
   "execution_count": 15,
   "metadata": {},
   "outputs": [
    {
     "data": {
      "text/plain": [
       "array([[4.80696443, 3.34937276, 2.44078869, 0.1392652 ],\n",
       "       [3.78616101, 3.80841767, 2.0592501 , 0.74239557],\n",
       "       [4.24793992, 3.99513445, 1.04589396, 2.5903573 ],\n",
       "       ...,\n",
       "       [1.79929129, 0.93866854, 3.69852492, 0.05365685],\n",
       "       [1.61834881, 0.31294892, 0.74537623, 4.5029579 ],\n",
       "       [1.95347082, 1.26165558, 1.45789506, 0.97476601]])"
      ]
     },
     "execution_count": 15,
     "metadata": {},
     "output_type": "execute_result"
    }
   ],
   "source": [
    "X"
   ]
  },
  {
   "cell_type": "markdown",
   "metadata": {},
   "source": [
    "## Veriyi Normalize et"
   ]
  },
  {
   "cell_type": "code",
   "execution_count": 32,
   "metadata": {},
   "outputs": [
    {
     "data": {
      "text/plain": [
       "array([[0.49493877, 0.6548322 , 0.64685404, 0.47894127],\n",
       "       [0.63669748, 0.71830876, 0.45579068, 0.26382842],\n",
       "       [0.41987083, 0.81613973, 0.82359851, 0.31330549],\n",
       "       ...,\n",
       "       [0.5170409 , 0.15149126, 0.28555073, 0.        ],\n",
       "       [0.12387399, 0.13799214, 0.68425213, 0.67327396],\n",
       "       [0.60121527, 0.50506931, 0.51200946, 0.08262392]])"
      ]
     },
     "execution_count": 32,
     "metadata": {},
     "output_type": "execute_result"
    }
   ],
   "source": [
    "from sklearn.preprocessing import MinMaxScaler\n",
    "scaler = MinMaxScaler()\n",
    "\n",
    "# her feature (kolon) normalize ediliyor\n",
    "scaler.fit(X)\n",
    "X = scaler.transform(X)\n",
    "X"
   ]
  },
  {
   "cell_type": "markdown",
   "metadata": {},
   "source": [
    "# [Oklid Temelli] İşe Alım Algoritması\n",
    "\n",
    "yeni_adaylar matrisindeki adaylari tek tek degerlendirecegiz\n",
    " - adayi al\n",
    " - nomalize et\n",
    " - X matrisi ile Oklid mesafesini hesapla\n",
    " - en yakin k = 5 komusuyu bul\n",
    " - Bu komusularin yaridan fazlasi kabul almis ise, bu adayi da kabul et yoksa red\n",
    " \n",
    "```\n",
    "if np.mean(y[benzerler]) > 0.5:\n",
    "    print(\"kabul\")\n",
    "else:\n",
    "    print(\"red\")\n",
    "```"
   ]
  },
  {
   "cell_type": "code",
   "execution_count": 33,
   "metadata": {},
   "outputs": [],
   "source": [
    "yeni_adaylar = np.array([[5, 5, 5, 5],\n",
    "                         [5, 5, 4, 4],\n",
    "                         [5, 5, 3, 3],\n",
    "                         [5, 5, 2, 2],\n",
    "                         [5, 5, 1, 1],\n",
    "                         [5, 5, 0, 0],\n",
    "                         [0, 0, 1, 1],\n",
    "                         [0, 0, 2, 2],\n",
    "                         [0, 0, 3, 3],\n",
    "                         [0, 0, 4, 4],\n",
    "                         [0, 0, 5, 5],\n",
    "                         [1, 2, 3, 4],\n",
    "                         [1, 1, 2, 3],\n",
    "                         [1, 2, 3, 4],\n",
    "                         [2, 2, 4, 4]])"
   ]
  },
  {
   "cell_type": "code",
   "execution_count": 34,
   "metadata": {},
   "outputs": [
    {
     "data": {
      "text/plain": [
       "array([[1.00276071, 1.01474115, 1.01905418, 1.01736745]])"
      ]
     },
     "execution_count": 34,
     "metadata": {},
     "output_type": "execute_result"
    }
   ],
   "source": [
    "i = 0\n",
    "aday = yeni_adaylar[i].reshape(1,-1)\n",
    "aday = scaler.transform(aday)\n",
    "aday"
   ]
  },
  {
   "cell_type": "code",
   "execution_count": 35,
   "metadata": {},
   "outputs": [
    {
     "data": {
      "text/plain": [
       "array([[5., 5., 5., 5.]])"
      ]
     },
     "execution_count": 35,
     "metadata": {},
     "output_type": "execute_result"
    }
   ],
   "source": [
    "scaler.inverse_transform(aday)"
   ]
  },
  {
   "cell_type": "code",
   "execution_count": 36,
   "metadata": {},
   "outputs": [],
   "source": [
    "def ise_alim(yeni = 0, k = 5):\n",
    "    # Yeni aday matrisinden adaylari sec \n",
    "    aday = yeni_adaylar[yeni].reshape(1,-1)\n",
    "    # Transfrom et\n",
    "    aday = scaler.transform(aday)\n",
    "    # X ile Farkini al\n",
    "    D = X-aday\n",
    "    # Farkin karesi\n",
    "    D2 = D**2\n",
    "    # Oklid mesafesini hesapla\n",
    "    mesafe = np.array([np.sqrt(x[0]+x[1]+x[2]+x[3]) for x in D2])\n",
    "    # Mesafeleri buyukten kucuge sirala, en kucuk k komsunun indeksi\n",
    "    k_komsu = mesafe.argsort()[:k]\n",
    "\n",
    "    if np.mean(y[k_komsu])>0.5: \n",
    "        print(scaler.inverse_transform(aday), \">> Kabul\")\n",
    "    else:\n",
    "        print(scaler.inverse_transform(aday), \">>red\")"
   ]
  },
  {
   "cell_type": "code",
   "execution_count": 37,
   "metadata": {},
   "outputs": [
    {
     "name": "stdout",
     "output_type": "stream",
     "text": [
      "[[5. 5. 5. 5.]] >> Kabul\n",
      "[[5. 5. 4. 4.]] >> Kabul\n",
      "[[5. 5. 3. 3.]] >> Kabul\n",
      "[[5. 5. 2. 2.]] >> Kabul\n",
      "[[5. 5. 1. 1.]] >> Kabul\n",
      "[[5. 5. 0. 0.]] >> Kabul\n",
      "[[0. 0. 1. 1.]] >>red\n",
      "[[0. 0. 2. 2.]] >>red\n",
      "[[0. 0. 3. 3.]] >>red\n",
      "[[0. 0. 4. 4.]] >>red\n",
      "[[0. 0. 5. 5.]] >>red\n",
      "[[1. 2. 3. 4.]] >>red\n",
      "[[1. 1. 2. 3.]] >>red\n",
      "[[1. 2. 3. 4.]] >>red\n",
      "[[2. 2. 4. 4.]] >>red\n"
     ]
    }
   ],
   "source": [
    "for i in range(yeni_adaylar.shape[0]):\n",
    "    ise_alim(yeni = i, k = 5)"
   ]
  },
  {
   "cell_type": "markdown",
   "metadata": {},
   "source": [
    "# [Korelasyon Temelli] İşe Alım Algoritması\n",
    "\n",
    "yeni_adaylar matrisindeki adaylari tek tek degerlendirecegiz\n",
    " - adayi al, aday vektorunu kendi boyuna bol\n",
    " - X matrisini nomalize et, X'teki her bir satır vektörünü kendi boyuna böl \n",
    " - X matrisi ile korelasyon temelli benzerligi hesapla\n",
    " - en yakin k = 5 benzer komusuyu bul\n",
    " - Bu komusularin yaridan fazlasi kabul almis ise, bu adayi da kabul et yoksa red"
   ]
  },
  {
   "cell_type": "code",
   "execution_count": 38,
   "metadata": {},
   "outputs": [
    {
     "data": {
      "text/plain": [
       "array([[5, 5, 5, 5],\n",
       "       [5, 5, 4, 4],\n",
       "       [5, 5, 3, 3],\n",
       "       [5, 5, 2, 2],\n",
       "       [5, 5, 1, 1],\n",
       "       [5, 5, 0, 0],\n",
       "       [0, 0, 1, 1],\n",
       "       [0, 0, 2, 2],\n",
       "       [0, 0, 3, 3],\n",
       "       [0, 0, 4, 4],\n",
       "       [0, 0, 5, 5],\n",
       "       [1, 2, 3, 4],\n",
       "       [1, 1, 2, 3],\n",
       "       [1, 2, 3, 4],\n",
       "       [2, 2, 4, 4]])"
      ]
     },
     "execution_count": 38,
     "metadata": {},
     "output_type": "execute_result"
    }
   ],
   "source": [
    "yeni_adaylar"
   ]
  },
  {
   "cell_type": "code",
   "execution_count": 39,
   "metadata": {},
   "outputs": [],
   "source": [
    "# vektorunu kendi boyuna bolen anonim fonksiyon\n",
    "nomalize = lambda X: X/((X**2).sum(axis=1).reshape(X.shape[0],1))**(1/2)"
   ]
  },
  {
   "cell_type": "code",
   "execution_count": 40,
   "metadata": {},
   "outputs": [
    {
     "data": {
      "text/plain": [
       "array([[0.5       , 0.5       , 0.5       , 0.5       ],\n",
       "       [0.55215763, 0.55215763, 0.4417261 , 0.4417261 ],\n",
       "       [0.60633906, 0.60633906, 0.36380344, 0.36380344],\n",
       "       [0.65653216, 0.65653216, 0.26261287, 0.26261287],\n",
       "       [0.69337525, 0.69337525, 0.13867505, 0.13867505],\n",
       "       [0.70710678, 0.70710678, 0.        , 0.        ],\n",
       "       [0.        , 0.        , 0.70710678, 0.70710678],\n",
       "       [0.        , 0.        , 0.70710678, 0.70710678],\n",
       "       [0.        , 0.        , 0.70710678, 0.70710678],\n",
       "       [0.        , 0.        , 0.70710678, 0.70710678],\n",
       "       [0.        , 0.        , 0.70710678, 0.70710678],\n",
       "       [0.18257419, 0.36514837, 0.54772256, 0.73029674],\n",
       "       [0.25819889, 0.25819889, 0.51639778, 0.77459667],\n",
       "       [0.18257419, 0.36514837, 0.54772256, 0.73029674],\n",
       "       [0.31622777, 0.31622777, 0.63245553, 0.63245553]])"
      ]
     },
     "execution_count": 40,
     "metadata": {},
     "output_type": "execute_result"
    }
   ],
   "source": [
    "A = nomalize(yeni_adaylar)\n",
    "A"
   ]
  },
  {
   "cell_type": "code",
   "execution_count": 41,
   "metadata": {},
   "outputs": [],
   "source": [
    "C = nomalize(X)"
   ]
  },
  {
   "cell_type": "code",
   "execution_count": 42,
   "metadata": {},
   "outputs": [
    {
     "data": {
      "text/plain": [
       "array([[0.43053221, 0.56961866, 0.5626787 , 0.41661648],\n",
       "       [0.58153729, 0.65607818, 0.41630332, 0.24097168],\n",
       "       [0.32999879, 0.64144756, 0.64730982, 0.24624342],\n",
       "       ...,\n",
       "       [0.84792699, 0.24843978, 0.46829211, 0.        ],\n",
       "       [0.12670017, 0.14114043, 0.69986334, 0.6886347 ],\n",
       "       [0.63889146, 0.53672035, 0.54409542, 0.08780169]])"
      ]
     },
     "execution_count": 42,
     "metadata": {},
     "output_type": "execute_result"
    }
   ],
   "source": [
    "C"
   ]
  },
  {
   "cell_type": "code",
   "execution_count": 43,
   "metadata": {},
   "outputs": [
    {
     "data": {
      "text/plain": [
       "array([[0.98972302, 0.98482117, 0.96270149, ..., 0.87151361, 0.89904486,\n",
       "        0.93563612],\n",
       "       [0.94744523, 0.97369435, 0.98953351, ..., 0.72118491, 0.74973913,\n",
       "        0.80706558],\n",
       "       [0.9324998 , 0.93109731, 0.91410361, ..., 0.77583506, 0.82884975,\n",
       "        0.872331  ],\n",
       "       ...,\n",
       "       [0.78232944, 0.81222412, 0.83513628, ..., 0.52490569, 0.50202111,\n",
       "        0.64287555],\n",
       "       [0.82816932, 0.76122606, 0.66754258, ..., 0.96397817, 0.960908  ,\n",
       "        0.9628619 ],\n",
       "       [0.90375446, 0.92824848, 0.94270571, ..., 0.65252223, 0.67476228,\n",
       "        0.77140792]])"
      ]
     },
     "execution_count": 43,
     "metadata": {},
     "output_type": "execute_result"
    }
   ],
   "source": [
    "# C matrisi ile A matrisinin vektör çarpımını al\n",
    "B = C.dot(A.T)\n",
    "B"
   ]
  },
  {
   "cell_type": "markdown",
   "metadata": {},
   "source": [
    " - en yakin k = 5 benzer komusuyu bul\n",
    " - Bu komusularin yaridan fazlasi kabul almis ise, bu adayi da kabul et yoksa red"
   ]
  },
  {
   "cell_type": "code",
   "execution_count": null,
   "metadata": {},
   "outputs": [],
   "source": [
    "alim = lambda a : \"Kabul\" if a else \"Red\"\n",
    "\n",
    "[(yeni_adaylar[i, :], alim((...) > 0.5)) for i in range(A.shape[0])]"
   ]
  }
 ],
 "metadata": {
  "kernelspec": {
   "display_name": "Python 3",
   "language": "python",
   "name": "python3"
  },
  "language_info": {
   "codemirror_mode": {
    "name": "ipython",
    "version": 3
   },
   "file_extension": ".py",
   "mimetype": "text/x-python",
   "name": "python",
   "nbconvert_exporter": "python",
   "pygments_lexer": "ipython3",
   "version": "3.7.3"
  }
 },
 "nbformat": 4,
 "nbformat_minor": 2
}
