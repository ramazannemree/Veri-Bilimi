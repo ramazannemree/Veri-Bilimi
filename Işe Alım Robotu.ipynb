{
 "cells": [
  {
   "cell_type": "markdown",
   "metadata": {},
   "source": [
    "## Çalışma\n",
    "\n",
    "Daha önce X şirketine başvuran 1000 adaydan 100'ü işe alınmış olsun. Her adayın 4 özelliği olsun, ama sadece iki özelliği işe alınma için gerçekten ayırt edici olsun.\n",
    "\n",
    "Özellikler\n",
    " - __Önemli__ : Social Skills, Knowledge in algorithms\n",
    " - __Önemsiz__ : GPA, Age\n",
    " \n",
    "Bu özelliklerin tümünün 0 ile 5 arasında değer aldığını kabul ediyoruz. \n",
    " \n",
    "İşe alınanlar\n",
    " - Social Skills ve Knowledge in algorithms 5 üzerinden 5e yakın rastgele sayilar\n",
    " - Diğer özellikler GPA, Age önemli değil\n",
    " \n",
    "İşe alınmayanlar ise\n",
    " - Social Skills ve Knowledge in algorithms 5 üzerinden 1e yakın rastgele sayilar\n",
    " - Diğer özellikler GPA, Age önemli değil\n",
    "\n",
    "Öncelikle bu veri setini oluşturalım"
   ]
  },
  {
   "cell_type": "markdown",
   "metadata": {},
   "source": [
    "## Kutuphaneler"
   ]
  },
  {
   "cell_type": "code",
   "execution_count": 2,
   "metadata": {},
   "outputs": [],
   "source": [
    "import numpy as np\n",
    "import pandas as pd\n",
    "import matplotlib.pyplot as plt\n",
    "\n",
    "np.random.seed(2019)"
   ]
  },
  {
   "cell_type": "markdown",
   "metadata": {},
   "source": [
    "## Rastgele sayi uretme\n",
    "\n",
    "Belirlenen min ve max degeri arasinda ortalaması mu olan, standart sapması 1 olan normal dagilimdan sayi uretme."
   ]
  },
  {
   "cell_type": "code",
   "execution_count": 3,
   "metadata": {},
   "outputs": [],
   "source": [
    "def generate(mu = None, minval = 0, maxval = 5):\n",
    "    # Eger mu None ise, mu degeri minval ve maxval in ortalaması olsun\n",
    "    if mu == None: \n",
    "        mu=(minval+maxval)/2\n",
    "    \n",
    "    # val ortalaması mu olan, standart sapması 1 olan normal dagilimdan rastgele sayi \n",
    "    val = np.random.normal(loc=mu,scale=1)\n",
    "    \n",
    "    # Eger val, maxval'den buyukse veye minval'den kucukse, sayıyı tekrar uret\n",
    "    while val>maxval or val<minval :\n",
    "        val = np.random.normal(loc=mu,scale=1)\n",
    "    return val"
   ]
  },
  {
   "cell_type": "markdown",
   "metadata": {},
   "source": [
    "## Basarili adaylar\n",
    "\n",
    " - Basarili adaylarin onemli ozelliklerini uretelim\n",
    " \n",
    "#### İşe alınan başarılı adayların özellikleri\n",
    "\n",
    "Yukarıdaki `generate` fonksiyonu ile verimizi olusturalım.\n",
    "\n",
    " - Social Skills ve Knowledge in algorithms 5 üzerinden 5e yakın rastgele sayilar\n",
    " - Diğer özellikler GPA, Age önemli değil"
   ]
  },
  {
   "cell_type": "markdown",
   "metadata": {},
   "source": [
    "### Basarisiz Adaylar\n",
    "\n",
    "#### İşe alınmayan başarısız adayların özellikleri ise\n",
    " - Social Skills ve Knowledge in algorithms 5 üzerinden 1e yakın rastgele sayilar\n",
    " - Diğer özellikler GPA, Age önemli değil"
   ]
  },
  {
   "cell_type": "markdown",
   "metadata": {},
   "source": [
    "# Veri Setini olusturalim\n",
    "\n",
    "Başarılı Adaylar\n",
    "> Ilk yüz kişi başarılı, \n",
    " - target = 1\n",
    " - Social Skills ve Knowledge in algorithms 5 üzerinden 5e yakın rastgele sayilar\n",
    " - GPA ve AGE, 0 ve 5 arasinda rastgele sayilar\n",
    "\n",
    "Başarısız Adaylar\n",
    "> Geri kalan 900 kişi başarısız\n",
    " - target = 0\n",
    " - Social Skills ve Knowledge in algorithms 5 üzerinden 1e yakın rastgele sayilar\n",
    " - GPA ve AGE, 0 ve 5 arasinda rastgele sayilar"
   ]
  },
  {
   "cell_type": "code",
   "execution_count": 4,
   "metadata": {},
   "outputs": [],
   "source": [
    "# 1 basarili , 0 basarisiz\n",
    "target = [1 for i in range(100)] + [0 for i in range(900)]\n",
    "\n",
    "social_skills = [np.random.uniform(3,5) for i in range(100)] + [np.random.uniform(0,2) for i in range(900)]\n",
    "algorithm_knowledge = [np.random.uniform(3,5) for i in range(100)] + [np.random.uniform(0,2) for i in range(900)]\n",
    "GPA = [np.random.uniform(0,5) for i in range(100)] + [np.random.uniform(0,5) for i in range(900)]\n",
    "Age = [np.random.uniform(0,5) for i in range(100)] + [np.random.uniform(0,5) for i in range(900)]"
   ]
  },
  {
   "cell_type": "markdown",
   "metadata": {},
   "source": [
    "Veri dictionary'si oluşturalım ardından, verimizi pandas dataframe'e dönüştürelim"
   ]
  },
  {
   "cell_type": "code",
   "execution_count": 5,
   "metadata": {},
   "outputs": [],
   "source": [
    "datadict = {\"social\":social_skills, \"algorithm\":algorithm_knowledge, \"gpa\":GPA, \"age\":Age, \"y\":target}\n",
    "data = pd.DataFrame.from_dict(datadict)"
   ]
  },
  {
   "cell_type": "markdown",
   "metadata": {},
   "source": [
    "ilk 7 veri"
   ]
  },
  {
   "cell_type": "code",
   "execution_count": 6,
   "metadata": {},
   "outputs": [
    {
     "data": {
      "text/html": [
       "<div>\n",
       "<style scoped>\n",
       "    .dataframe tbody tr th:only-of-type {\n",
       "        vertical-align: middle;\n",
       "    }\n",
       "\n",
       "    .dataframe tbody tr th {\n",
       "        vertical-align: top;\n",
       "    }\n",
       "\n",
       "    .dataframe thead th {\n",
       "        text-align: right;\n",
       "    }\n",
       "</style>\n",
       "<table border=\"1\" class=\"dataframe\">\n",
       "  <thead>\n",
       "    <tr style=\"text-align: right;\">\n",
       "      <th></th>\n",
       "      <th>social</th>\n",
       "      <th>algorithm</th>\n",
       "      <th>gpa</th>\n",
       "      <th>age</th>\n",
       "      <th>y</th>\n",
       "    </tr>\n",
       "  </thead>\n",
       "  <tbody>\n",
       "    <tr>\n",
       "      <th>0</th>\n",
       "      <td>4.806964</td>\n",
       "      <td>3.349373</td>\n",
       "      <td>2.440789</td>\n",
       "      <td>0.139265</td>\n",
       "      <td>1</td>\n",
       "    </tr>\n",
       "    <tr>\n",
       "      <th>1</th>\n",
       "      <td>3.786161</td>\n",
       "      <td>3.808418</td>\n",
       "      <td>2.059250</td>\n",
       "      <td>0.742396</td>\n",
       "      <td>1</td>\n",
       "    </tr>\n",
       "    <tr>\n",
       "      <th>2</th>\n",
       "      <td>4.247940</td>\n",
       "      <td>3.995134</td>\n",
       "      <td>1.045894</td>\n",
       "      <td>2.590357</td>\n",
       "      <td>1</td>\n",
       "    </tr>\n",
       "    <tr>\n",
       "      <th>3</th>\n",
       "      <td>4.275755</td>\n",
       "      <td>4.937343</td>\n",
       "      <td>3.750509</td>\n",
       "      <td>4.247627</td>\n",
       "      <td>1</td>\n",
       "    </tr>\n",
       "    <tr>\n",
       "      <th>4</th>\n",
       "      <td>4.760998</td>\n",
       "      <td>4.828396</td>\n",
       "      <td>0.752626</td>\n",
       "      <td>4.839229</td>\n",
       "      <td>1</td>\n",
       "    </tr>\n",
       "    <tr>\n",
       "      <th>5</th>\n",
       "      <td>3.598344</td>\n",
       "      <td>4.305264</td>\n",
       "      <td>1.828519</td>\n",
       "      <td>1.584505</td>\n",
       "      <td>1</td>\n",
       "    </tr>\n",
       "    <tr>\n",
       "      <th>6</th>\n",
       "      <td>4.404397</td>\n",
       "      <td>4.297717</td>\n",
       "      <td>0.796330</td>\n",
       "      <td>3.944704</td>\n",
       "      <td>1</td>\n",
       "    </tr>\n",
       "  </tbody>\n",
       "</table>\n",
       "</div>"
      ],
      "text/plain": [
       "     social  algorithm       gpa       age  y\n",
       "0  4.806964   3.349373  2.440789  0.139265  1\n",
       "1  3.786161   3.808418  2.059250  0.742396  1\n",
       "2  4.247940   3.995134  1.045894  2.590357  1\n",
       "3  4.275755   4.937343  3.750509  4.247627  1\n",
       "4  4.760998   4.828396  0.752626  4.839229  1\n",
       "5  3.598344   4.305264  1.828519  1.584505  1\n",
       "6  4.404397   4.297717  0.796330  3.944704  1"
      ]
     },
     "execution_count": 6,
     "metadata": {},
     "output_type": "execute_result"
    }
   ],
   "source": [
    "data.head(7)"
   ]
  },
  {
   "cell_type": "markdown",
   "metadata": {},
   "source": [
    "son 7 veri"
   ]
  },
  {
   "cell_type": "code",
   "execution_count": 7,
   "metadata": {},
   "outputs": [
    {
     "data": {
      "text/html": [
       "<div>\n",
       "<style scoped>\n",
       "    .dataframe tbody tr th:only-of-type {\n",
       "        vertical-align: middle;\n",
       "    }\n",
       "\n",
       "    .dataframe tbody tr th {\n",
       "        vertical-align: top;\n",
       "    }\n",
       "\n",
       "    .dataframe thead th {\n",
       "        text-align: right;\n",
       "    }\n",
       "</style>\n",
       "<table border=\"1\" class=\"dataframe\">\n",
       "  <thead>\n",
       "    <tr style=\"text-align: right;\">\n",
       "      <th></th>\n",
       "      <th>social</th>\n",
       "      <th>algorithm</th>\n",
       "      <th>gpa</th>\n",
       "      <th>age</th>\n",
       "      <th>y</th>\n",
       "    </tr>\n",
       "  </thead>\n",
       "  <tbody>\n",
       "    <tr>\n",
       "      <th>993</th>\n",
       "      <td>1.867046</td>\n",
       "      <td>1.806988</td>\n",
       "      <td>3.105694</td>\n",
       "      <td>0.601139</td>\n",
       "      <td>0</td>\n",
       "    </tr>\n",
       "    <tr>\n",
       "      <th>994</th>\n",
       "      <td>0.971714</td>\n",
       "      <td>1.217177</td>\n",
       "      <td>0.148350</td>\n",
       "      <td>4.304380</td>\n",
       "      <td>0</td>\n",
       "    </tr>\n",
       "    <tr>\n",
       "      <th>995</th>\n",
       "      <td>0.856271</td>\n",
       "      <td>1.022126</td>\n",
       "      <td>1.498778</td>\n",
       "      <td>1.321347</td>\n",
       "      <td>0</td>\n",
       "    </tr>\n",
       "    <tr>\n",
       "      <th>996</th>\n",
       "      <td>0.497104</td>\n",
       "      <td>0.712434</td>\n",
       "      <td>2.582369</td>\n",
       "      <td>2.681622</td>\n",
       "      <td>0</td>\n",
       "    </tr>\n",
       "    <tr>\n",
       "      <th>997</th>\n",
       "      <td>1.799291</td>\n",
       "      <td>0.938669</td>\n",
       "      <td>3.698525</td>\n",
       "      <td>0.053657</td>\n",
       "      <td>0</td>\n",
       "    </tr>\n",
       "    <tr>\n",
       "      <th>998</th>\n",
       "      <td>1.618349</td>\n",
       "      <td>0.312949</td>\n",
       "      <td>0.745376</td>\n",
       "      <td>4.502958</td>\n",
       "      <td>0</td>\n",
       "    </tr>\n",
       "    <tr>\n",
       "      <th>999</th>\n",
       "      <td>1.953471</td>\n",
       "      <td>1.261656</td>\n",
       "      <td>1.457895</td>\n",
       "      <td>0.974766</td>\n",
       "      <td>0</td>\n",
       "    </tr>\n",
       "  </tbody>\n",
       "</table>\n",
       "</div>"
      ],
      "text/plain": [
       "       social  algorithm       gpa       age  y\n",
       "993  1.867046   1.806988  3.105694  0.601139  0\n",
       "994  0.971714   1.217177  0.148350  4.304380  0\n",
       "995  0.856271   1.022126  1.498778  1.321347  0\n",
       "996  0.497104   0.712434  2.582369  2.681622  0\n",
       "997  1.799291   0.938669  3.698525  0.053657  0\n",
       "998  1.618349   0.312949  0.745376  4.502958  0\n",
       "999  1.953471   1.261656  1.457895  0.974766  0"
      ]
     },
     "execution_count": 7,
     "metadata": {},
     "output_type": "execute_result"
    }
   ],
   "source": [
    "data.tail(7)"
   ]
  },
  {
   "cell_type": "markdown",
   "metadata": {},
   "source": [
    "Veri Özellikleri"
   ]
  },
  {
   "cell_type": "code",
   "execution_count": 8,
   "metadata": {},
   "outputs": [
    {
     "data": {
      "text/html": [
       "<div>\n",
       "<style scoped>\n",
       "    .dataframe tbody tr th:only-of-type {\n",
       "        vertical-align: middle;\n",
       "    }\n",
       "\n",
       "    .dataframe tbody tr th {\n",
       "        vertical-align: top;\n",
       "    }\n",
       "\n",
       "    .dataframe thead th {\n",
       "        text-align: right;\n",
       "    }\n",
       "</style>\n",
       "<table border=\"1\" class=\"dataframe\">\n",
       "  <thead>\n",
       "    <tr style=\"text-align: right;\">\n",
       "      <th></th>\n",
       "      <th>count</th>\n",
       "      <th>mean</th>\n",
       "      <th>std</th>\n",
       "      <th>min</th>\n",
       "      <th>25%</th>\n",
       "      <th>50%</th>\n",
       "      <th>75%</th>\n",
       "      <th>max</th>\n",
       "    </tr>\n",
       "  </thead>\n",
       "  <tbody>\n",
       "    <tr>\n",
       "      <th>social</th>\n",
       "      <td>1000.0</td>\n",
       "      <td>1.293444</td>\n",
       "      <td>1.073860</td>\n",
       "      <td>0.000060</td>\n",
       "      <td>0.560215</td>\n",
       "      <td>1.091627</td>\n",
       "      <td>1.647499</td>\n",
       "      <td>4.969447</td>\n",
       "    </tr>\n",
       "    <tr>\n",
       "      <th>algorithm</th>\n",
       "      <td>1000.0</td>\n",
       "      <td>1.310216</td>\n",
       "      <td>1.095133</td>\n",
       "      <td>0.003565</td>\n",
       "      <td>0.506582</td>\n",
       "      <td>1.120912</td>\n",
       "      <td>1.701857</td>\n",
       "      <td>4.966020</td>\n",
       "    </tr>\n",
       "    <tr>\n",
       "      <th>gpa</th>\n",
       "      <td>1000.0</td>\n",
       "      <td>2.396967</td>\n",
       "      <td>1.424219</td>\n",
       "      <td>0.002083</td>\n",
       "      <td>1.127690</td>\n",
       "      <td>2.361357</td>\n",
       "      <td>3.664647</td>\n",
       "      <td>4.991912</td>\n",
       "    </tr>\n",
       "    <tr>\n",
       "      <th>age</th>\n",
       "      <td>1000.0</td>\n",
       "      <td>2.413541</td>\n",
       "      <td>1.438871</td>\n",
       "      <td>0.001243</td>\n",
       "      <td>1.141817</td>\n",
       "      <td>2.409571</td>\n",
       "      <td>3.650525</td>\n",
       "      <td>4.999599</td>\n",
       "    </tr>\n",
       "    <tr>\n",
       "      <th>y</th>\n",
       "      <td>1000.0</td>\n",
       "      <td>0.100000</td>\n",
       "      <td>0.300150</td>\n",
       "      <td>0.000000</td>\n",
       "      <td>0.000000</td>\n",
       "      <td>0.000000</td>\n",
       "      <td>0.000000</td>\n",
       "      <td>1.000000</td>\n",
       "    </tr>\n",
       "  </tbody>\n",
       "</table>\n",
       "</div>"
      ],
      "text/plain": [
       "            count      mean       std       min       25%       50%       75%  \\\n",
       "social     1000.0  1.293444  1.073860  0.000060  0.560215  1.091627  1.647499   \n",
       "algorithm  1000.0  1.310216  1.095133  0.003565  0.506582  1.120912  1.701857   \n",
       "gpa        1000.0  2.396967  1.424219  0.002083  1.127690  2.361357  3.664647   \n",
       "age        1000.0  2.413541  1.438871  0.001243  1.141817  2.409571  3.650525   \n",
       "y          1000.0  0.100000  0.300150  0.000000  0.000000  0.000000  0.000000   \n",
       "\n",
       "                max  \n",
       "social     4.969447  \n",
       "algorithm  4.966020  \n",
       "gpa        4.991912  \n",
       "age        4.999599  \n",
       "y          1.000000  "
      ]
     },
     "execution_count": 8,
     "metadata": {},
     "output_type": "execute_result"
    }
   ],
   "source": [
    "data.describe().T"
   ]
  },
  {
   "cell_type": "markdown",
   "metadata": {},
   "source": [
    "## Veriyi kaydet"
   ]
  },
  {
   "cell_type": "code",
   "execution_count": 9,
   "metadata": {},
   "outputs": [],
   "source": [
    "data.to_csv(\"data.csv\", index=False)"
   ]
  },
  {
   "cell_type": "markdown",
   "metadata": {},
   "source": [
    "## Veriyi Oku"
   ]
  },
  {
   "cell_type": "code",
   "execution_count": 10,
   "metadata": {},
   "outputs": [],
   "source": [
    "import requests\n",
    "import io\n",
    "\n",
    "\n",
    "url = \"https://raw.githubusercontent.com/uzay00/KaVe-Egitim/master/ARGE/Sorular/1-İseAlımRobotu/data.csv\"\n",
    "s = requests.get(url).content\n",
    "data = pd.read_csv(io.StringIO(s.decode('utf-8')))"
   ]
  },
  {
   "cell_type": "markdown",
   "metadata": {},
   "source": [
    "## Veriyi Ciz"
   ]
  },
  {
   "cell_type": "code",
   "execution_count": 11,
   "metadata": {},
   "outputs": [
    {
     "data": {
      "text/plain": [
       "Text(0.5, 1.0, 'Successful Candidates')"
      ]
     },
     "execution_count": 11,
     "metadata": {},
     "output_type": "execute_result"
    },
    {
     "data": {
      "image/png": "[encoded data removed]",
      "text/plain": [
       "<Figure size 432x288 with 1 Axes>"
      ]
     },
     "metadata": {
      "needs_background": "light"
     },
     "output_type": "display_data"
    }
   ],
   "source": [
    "ax = data[data.y == 1].plot.hist(bins=12, alpha=0.5)\n",
    "plt.title(\"Successful Candidates\")"
   ]
  },
  {
   "cell_type": "code",
   "execution_count": 12,
   "metadata": {},
   "outputs": [
    {
     "data": {
      "text/plain": [
       "Text(0.5, 1.0, 'Unsuccessful Candidates')"
      ]
     },
     "execution_count": 12,
     "metadata": {},
     "output_type": "execute_result"
    },
    {
     "data": {
      "image/png": "[encoded data removed]",
      "text/plain": [
       "<Figure size 432x288 with 1 Axes>"
      ]
     },
     "metadata": {
      "needs_background": "light"
     },
     "output_type": "display_data"
    }
   ],
   "source": [
    "ax = data[data.y==0].plot.hist(bins=12, alpha=0.5)\n",
    "plt.title(\"Unsuccessful Candidates\")"
   ]
  },
  {
   "cell_type": "markdown",
   "metadata": {},
   "source": [
    "## Iki boyutlu Cizim\n",
    "Verinin sadece algoritma ve yas kategorisini cizdir"
   ]
  },
  {
   "cell_type": "code",
   "execution_count": 13,
   "metadata": {},
   "outputs": [
    {
     "data": {
      "text/plain": [
       "<matplotlib.legend.Legend at 0x2c0308f15f8>"
      ]
     },
     "execution_count": 13,
     "metadata": {},
     "output_type": "execute_result"
    },
    {
     "data": {
      "image/png": "[encoded data removed]",
      "text/plain": [
       "<Figure size 432x288 with 1 Axes>"
      ]
     },
     "metadata": {
      "needs_background": "light"
     },
     "output_type": "display_data"
    }
   ],
   "source": [
    "plt.plot(data.algorithm[:100],data.age[:100],\">\",c=\"g\")\n",
    "plt.plot(data.algorithm[101:],data.age[101:],\"x\",c=\"r\")\n",
    "plt.xlabel(\"Knowledge in Algorithms\")\n",
    "plt.ylabel(\"Age Category\")\n",
    "plt.legend([\"Succesful\",\"Unsuccesful\"])"
   ]
  },
  {
   "cell_type": "code",
   "execution_count": 14,
   "metadata": {},
   "outputs": [
    {
     "data": {
      "text/html": [
       "<div>\n",
       "<style scoped>\n",
       "    .dataframe tbody tr th:only-of-type {\n",
       "        vertical-align: middle;\n",
       "    }\n",
       "\n",
       "    .dataframe tbody tr th {\n",
       "        vertical-align: top;\n",
       "    }\n",
       "\n",
       "    .dataframe thead th {\n",
       "        text-align: right;\n",
       "    }\n",
       "</style>\n",
       "<table border=\"1\" class=\"dataframe\">\n",
       "  <thead>\n",
       "    <tr style=\"text-align: right;\">\n",
       "      <th></th>\n",
       "      <th>social</th>\n",
       "      <th>algorithm</th>\n",
       "      <th>gpa</th>\n",
       "      <th>age</th>\n",
       "      <th>y</th>\n",
       "    </tr>\n",
       "  </thead>\n",
       "  <tbody>\n",
       "    <tr>\n",
       "      <th>0</th>\n",
       "      <td>4.385110</td>\n",
       "      <td>3.902737</td>\n",
       "      <td>3.854389</td>\n",
       "      <td>3.462752</td>\n",
       "      <td>1</td>\n",
       "    </tr>\n",
       "    <tr>\n",
       "      <th>1</th>\n",
       "      <td>4.872397</td>\n",
       "      <td>4.127768</td>\n",
       "      <td>3.802623</td>\n",
       "      <td>3.296719</td>\n",
       "      <td>1</td>\n",
       "    </tr>\n",
       "    <tr>\n",
       "      <th>2</th>\n",
       "      <td>4.830242</td>\n",
       "      <td>4.779077</td>\n",
       "      <td>2.979467</td>\n",
       "      <td>2.291362</td>\n",
       "      <td>1</td>\n",
       "    </tr>\n",
       "    <tr>\n",
       "      <th>3</th>\n",
       "      <td>4.848431</td>\n",
       "      <td>3.396778</td>\n",
       "      <td>3.130300</td>\n",
       "      <td>3.409216</td>\n",
       "      <td>1</td>\n",
       "    </tr>\n",
       "    <tr>\n",
       "      <th>4</th>\n",
       "      <td>3.602784</td>\n",
       "      <td>4.199958</td>\n",
       "      <td>2.820921</td>\n",
       "      <td>1.815152</td>\n",
       "      <td>1</td>\n",
       "    </tr>\n",
       "  </tbody>\n",
       "</table>\n",
       "</div>"
      ],
      "text/plain": [
       "     social  algorithm       gpa       age  y\n",
       "0  4.385110   3.902737  3.854389  3.462752  1\n",
       "1  4.872397   4.127768  3.802623  3.296719  1\n",
       "2  4.830242   4.779077  2.979467  2.291362  1\n",
       "3  4.848431   3.396778  3.130300  3.409216  1\n",
       "4  3.602784   4.199958  2.820921  1.815152  1"
      ]
     },
     "execution_count": 14,
     "metadata": {},
     "output_type": "execute_result"
    }
   ],
   "source": [
    "data.head()"
   ]
  },
  {
   "cell_type": "markdown",
   "metadata": {},
   "source": [
    "## Veri Matrisini Olusuturalim\n",
    "\n",
    "### X \n",
    "$[1000, 4]$ boyutlu\n",
    " - Verinin ilk 4 kolonu, adaylarin bilgilerini içeriyor\n",
    "\n",
    "### y \n",
    "$[1000, 1]$ boyutlu\n",
    " - Verinin son kolonu, kabul ya da red bilgisini içeriyor\n"
   ]
  },
  {
   "cell_type": "code",
   "execution_count": 15,
   "metadata": {},
   "outputs": [],
   "source": [
    "# numpy e donustur\n",
    "M = data.values\n",
    "\n",
    "# butun colonlar, son y kolonu haric\n",
    "X = M[:,:4]\n",
    "y = M[:,-1]"
   ]
  },
  {
   "cell_type": "code",
   "execution_count": 16,
   "metadata": {},
   "outputs": [
    {
     "data": {
      "text/plain": [
       "array([[4.38511018, 3.9027371 , 3.85438855, 3.46275234],\n",
       "       [4.87239669, 4.12776812, 3.80262297, 3.29671891],\n",
       "       [4.83024224, 4.77907697, 2.97946713, 2.29136188],\n",
       "       ...,\n",
       "       [1.52976627, 2.31600693, 4.05952622, 0.84169662],\n",
       "       [1.30197604, 1.41804449, 1.52541832, 2.95788373],\n",
       "       [1.34044951, 1.16548149, 3.0439767 , 2.61155526]])"
      ]
     },
     "execution_count": 16,
     "metadata": {},
     "output_type": "execute_result"
    }
   ],
   "source": [
    "X"
   ]
  },
  {
   "cell_type": "markdown",
   "metadata": {},
   "source": [
    "## Veriyi Normalize et"
   ]
  },
  {
   "cell_type": "code",
   "execution_count": 17,
   "metadata": {},
   "outputs": [
    {
     "data": {
      "text/plain": [
       "array([[0.87741239, 0.78288062, 0.78485057, 0.71179274],\n",
       "       [0.97526433, 0.82803244, 0.77426785, 0.67694645],\n",
       "       [0.9667993 , 0.95871564, 0.60598561, 0.46594699],\n",
       "       ...,\n",
       "       [0.30403115, 0.46450787, 0.82678799, 0.16169826],\n",
       "       [0.25828862, 0.28433434, 0.30872647, 0.60583337],\n",
       "       [0.26601447, 0.23365832, 0.61917365, 0.53314762]])"
      ]
     },
     "execution_count": 17,
     "metadata": {},
     "output_type": "execute_result"
    }
   ],
   "source": [
    "from sklearn.preprocessing import MinMaxScaler\n",
    "scaler = MinMaxScaler()\n",
    "\n",
    "# her feature (kolon) normalize ediliyor\n",
    "scaler.fit(X)\n",
    "X = scaler.transform(X)\n",
    "X"
   ]
  },
  {
   "cell_type": "markdown",
   "metadata": {},
   "source": [
    "# [Oklid Temelli] İşe Alım Algoritması\n",
    "\n",
    "yeni_adaylar matrisindeki adaylari tek tek degerlendirecegiz\n",
    " - adayi al\n",
    " - nomalize et\n",
    " - X matrisi ile Oklid mesafesini hesapla\n",
    " - en yakin k = 5 komusuyu bul\n",
    " - Bu komusularin yaridan fazlasi kabul almis ise, bu adayi da kabul et yoksa red\n",
    " \n",
    "```\n",
    "if np.mean(y[benzerler]) > 0.5:\n",
    "    print(\"kabul\")\n",
    "else:\n",
    "    print(\"red\")\n",
    "```"
   ]
  },
  {
   "cell_type": "code",
   "execution_count": 18,
   "metadata": {},
   "outputs": [],
   "source": [
    "yeni_adaylar = np.array([[5, 5, 5, 5],\n",
    "                         [5, 5, 4, 4],\n",
    "                         [5, 5, 3, 3],\n",
    "                         [5, 5, 2, 2],\n",
    "                         [5, 5, 1, 1],\n",
    "                         [5, 5, 0, 0],\n",
    "                         [0, 0, 1, 1],\n",
    "                         [0, 0, 2, 2],\n",
    "                         [0, 0, 3, 3],\n",
    "                         [0, 0, 4, 4],\n",
    "                         [0, 0, 5, 5],\n",
    "                         [1, 2, 3, 4],\n",
    "                         [1, 1, 2, 3],\n",
    "                         [1, 2, 3, 4],\n",
    "                         [2, 2, 4, 4]])"
   ]
  },
  {
   "cell_type": "code",
   "execution_count": 19,
   "metadata": {},
   "outputs": [
    {
     "data": {
      "text/plain": [
       "array([[1.00088834, 1.0030432 , 1.01905418, 1.03442284]])"
      ]
     },
     "execution_count": 19,
     "metadata": {},
     "output_type": "execute_result"
    }
   ],
   "source": [
    "i = 0\n",
    "aday = yeni_adaylar[i].reshape(1,-1)\n",
    "aday = scaler.transform(aday)\n",
    "aday"
   ]
  },
  {
   "cell_type": "code",
   "execution_count": 20,
   "metadata": {},
   "outputs": [
    {
     "data": {
      "text/plain": [
       "array([[5., 5., 5., 5.]])"
      ]
     },
     "execution_count": 20,
     "metadata": {},
     "output_type": "execute_result"
    }
   ],
   "source": [
    "scaler.inverse_transform(aday)"
   ]
  },
  {
   "cell_type": "code",
   "execution_count": 21,
   "metadata": {},
   "outputs": [],
   "source": [
    "def ise_alim(yeni = 0, k = 5):\n",
    "    # Yeni aday matrisinden adaylari sec \n",
    "    aday = yeni_adaylar[yeni].reshape(1,-1)\n",
    "    # Transfrom et\n",
    "    aday = scaler.transform(aday)\n",
    "    # X ile Farkini al\n",
    "    D = X-aday\n",
    "    # Farkin karesi\n",
    "    D2 = D**2\n",
    "    # Oklid mesafesini hesapla\n",
    "    mesafe = np.array([np.sqrt(x[0]+x[1]+x[2]+x[3]) for x in D2])\n",
    "    # Mesafeleri buyukten kucuge sirala, en kucuk k komsunun indeksi\n",
    "    k_komsu = mesafe.argsort()[:k]\n",
    "\n",
    "    if np.mean(y[k_komsu])>0.5: \n",
    "        print(scaler.inverse_transform(aday), \">> Kabul\")\n",
    "    else:\n",
    "        print(scaler.inverse_transform(aday), \">>red\")"
   ]
  },
  {
   "cell_type": "code",
   "execution_count": 22,
   "metadata": {},
   "outputs": [
    {
     "name": "stdout",
     "output_type": "stream",
     "text": [
      "[[5. 5. 5. 5.]] >> Kabul\n",
      "[[5. 5. 4. 4.]] >> Kabul\n",
      "[[5. 5. 3. 3.]] >> Kabul\n",
      "[[5. 5. 2. 2.]] >> Kabul\n",
      "[[5. 5. 1. 1.]] >> Kabul\n",
      "[[5. 5. 0. 0.]] >> Kabul\n",
      "[[0. 0. 1. 1.]] >>red\n",
      "[[0. 0. 2. 2.]] >>red\n",
      "[[0. 0. 3. 3.]] >>red\n",
      "[[0. 0. 4. 4.]] >>red\n",
      "[[0. 0. 5. 5.]] >>red\n",
      "[[1. 2. 3. 4.]] >>red\n",
      "[[1. 1. 2. 3.]] >>red\n",
      "[[1. 2. 3. 4.]] >>red\n",
      "[[2. 2. 4. 4.]] >>red\n"
     ]
    }
   ],
   "source": [
    "for i in range(yeni_adaylar.shape[0]):\n",
    "    ise_alim(yeni = i, k = 5)"
   ]
  },
  {
   "cell_type": "markdown",
   "metadata": {},
   "source": [
    "# [Korelasyon Temelli] İşe Alım Algoritması\n",
    "\n",
    "yeni_adaylar matrisindeki adaylari tek tek degerlendirecegiz\n",
    " - adayi al, aday vektorunu kendi boyuna bol\n",
    " - X matrisini nomalize et, X'teki her bir satır vektörünü kendi boyuna böl \n",
    " - X matrisi ile korelasyon temelli benzerligi hesapla\n",
    " - en yakin k = 5 benzer komusuyu bul\n",
    " - Bu komusularin yaridan fazlasi kabul almis ise, bu adayi da kabul et yoksa red"
   ]
  },
  {
   "cell_type": "code",
   "execution_count": 23,
   "metadata": {},
   "outputs": [
    {
     "data": {
      "text/plain": [
       "array([[5, 5, 5, 5],\n",
       "       [5, 5, 4, 4],\n",
       "       [5, 5, 3, 3],\n",
       "       [5, 5, 2, 2],\n",
       "       [5, 5, 1, 1],\n",
       "       [5, 5, 0, 0],\n",
       "       [0, 0, 1, 1],\n",
       "       [0, 0, 2, 2],\n",
       "       [0, 0, 3, 3],\n",
       "       [0, 0, 4, 4],\n",
       "       [0, 0, 5, 5],\n",
       "       [1, 2, 3, 4],\n",
       "       [1, 1, 2, 3],\n",
       "       [1, 2, 3, 4],\n",
       "       [2, 2, 4, 4]])"
      ]
     },
     "execution_count": 23,
     "metadata": {},
     "output_type": "execute_result"
    }
   ],
   "source": [
    "yeni_adaylar"
   ]
  },
  {
   "cell_type": "code",
   "execution_count": 24,
   "metadata": {},
   "outputs": [],
   "source": [
    "# vektorunu kendi boyuna bolen anonim fonksiyon\n",
    "nomalize = lambda X: X/((X**2).sum(axis=1).reshape(X.shape[0],1))**(1/2)"
   ]
  },
  {
   "cell_type": "code",
   "execution_count": 25,
   "metadata": {},
   "outputs": [
    {
     "data": {
      "text/plain": [
       "array([[0.5       , 0.5       , 0.5       , 0.5       ],\n",
       "       [0.55215763, 0.55215763, 0.4417261 , 0.4417261 ],\n",
       "       [0.60633906, 0.60633906, 0.36380344, 0.36380344],\n",
       "       [0.65653216, 0.65653216, 0.26261287, 0.26261287],\n",
       "       [0.69337525, 0.69337525, 0.13867505, 0.13867505],\n",
       "       [0.70710678, 0.70710678, 0.        , 0.        ],\n",
       "       [0.        , 0.        , 0.70710678, 0.70710678],\n",
       "       [0.        , 0.        , 0.70710678, 0.70710678],\n",
       "       [0.        , 0.        , 0.70710678, 0.70710678],\n",
       "       [0.        , 0.        , 0.70710678, 0.70710678],\n",
       "       [0.        , 0.        , 0.70710678, 0.70710678],\n",
       "       [0.18257419, 0.36514837, 0.54772256, 0.73029674],\n",
       "       [0.25819889, 0.25819889, 0.51639778, 0.77459667],\n",
       "       [0.18257419, 0.36514837, 0.54772256, 0.73029674],\n",
       "       [0.31622777, 0.31622777, 0.63245553, 0.63245553]])"
      ]
     },
     "execution_count": 25,
     "metadata": {},
     "output_type": "execute_result"
    }
   ],
   "source": [
    "A = nomalize(yeni_adaylar)\n",
    "A"
   ]
  },
  {
   "cell_type": "code",
   "execution_count": 26,
   "metadata": {},
   "outputs": [],
   "source": [
    "C = nomalize(X)"
   ]
  },
  {
   "cell_type": "code",
   "execution_count": 27,
   "metadata": {},
   "outputs": [
    {
     "data": {
      "text/plain": [
       "array([[0.55432665, 0.4946039 , 0.49584846, 0.4496924 ],\n",
       "       [0.59412961, 0.50443615, 0.47168285, 0.41239479],\n",
       "       [0.61916311, 0.61398613, 0.38808875, 0.29840442],\n",
       "       ...,\n",
       "       [0.30134204, 0.46039936, 0.81947517, 0.16026807],\n",
       "       [0.33073041, 0.36408113, 0.39531448, 0.77575047],\n",
       "       [0.29872634, 0.26239134, 0.69531359, 0.59870892]])"
      ]
     },
     "execution_count": 27,
     "metadata": {},
     "output_type": "execute_result"
    }
   ],
   "source": [
    "C"
   ]
  },
  {
   "cell_type": "code",
   "execution_count": 30,
   "metadata": {},
   "outputs": [
    {
     "data": {
      "text/plain": [
       "array([[0.9972357 , 0.99684509, 0.97999858, ..., 0.87521798, 0.88180583,\n",
       "        0.92971351],\n",
       "       [0.9913217 , 0.99710164, 0.98773382, ..., 0.84666407, 0.85218868,\n",
       "        0.90653679],\n",
       "       [0.95982121, 0.98413472, 0.99745513, ..., 0.749949  , 0.76772798,\n",
       "        0.82413243],\n",
       "       ...,\n",
       "       [0.87074232, 0.85337949, 0.81830752, ..., 0.74399905, 0.78901964,\n",
       "        0.86052781],\n",
       "       [0.93293825, 0.90093545, 0.84732883, ..., 0.98443282, 0.97637717,\n",
       "        0.96036521],\n",
       "       [0.92757009, 0.88142893, 0.8109974 , ..., 0.96769629, 0.9684256 ,\n",
       "        0.99585268]])"
      ]
     },
     "execution_count": 30,
     "metadata": {},
     "output_type": "execute_result"
    }
   ],
   "source": [
    "# C matrisi ile A matrisinin vektör çarpımını al\n",
    "B = C.dot(A.T)\n",
    "B"
   ]
  },
  {
   "cell_type": "markdown",
   "metadata": {},
   "source": [
    " - en yakin k = 5 benzer komusuyu bul\n",
    " - Bu komusularin yaridan fazlasi kabul almis ise, bu adayi da kabul et yoksa red"
   ]
  },
  {
   "cell_type": "code",
   "execution_count": 49,
   "metadata": {},
   "outputs": [
    {
     "data": {
      "text/plain": [
       "[(array([5, 5, 5, 5]), 'Kabul'),\n",
       " (array([5, 5, 4, 4]), 'Kabul'),\n",
       " (array([5, 5, 3, 3]), 'Kabul'),\n",
       " (array([5, 5, 2, 2]), 'Kabul'),\n",
       " (array([5, 5, 1, 1]), 'Kabul'),\n",
       " (array([5, 5, 0, 0]), 'Kabul'),\n",
       " (array([0, 0, 1, 1]), 'Red'),\n",
       " (array([0, 0, 2, 2]), 'Red'),\n",
       " (array([0, 0, 3, 3]), 'Red'),\n",
       " (array([0, 0, 4, 4]), 'Red'),\n",
       " (array([0, 0, 5, 5]), 'Red'),\n",
       " (array([1, 2, 3, 4]), 'Red'),\n",
       " (array([1, 1, 2, 3]), 'Red'),\n",
       " (array([1, 2, 3, 4]), 'Red'),\n",
       " (array([2, 2, 4, 4]), 'Red')]"
      ]
     },
     "execution_count": 49,
     "metadata": {},
     "output_type": "execute_result"
    }
   ],
   "source": [
    "alim = lambda a : \"Kabul\" if a else \"Red\"\n",
    "\n",
    "[(yeni_adaylar[i, :], alim((...) > 0.5)) for i in range(A.shape[0])]"
   ]
  }
 ],
 "metadata": {
  "kernelspec": {
   "display_name": "Python 3",
   "language": "python",
   "name": "python3"
  },
  "language_info": {
   "codemirror_mode": {
    "name": "ipython",
    "version": 3
   },
   "file_extension": ".py",
   "mimetype": "text/x-python",
   "name": "python",
   "nbconvert_exporter": "python",
   "pygments_lexer": "ipython3",
   "version": "3.7.3"
  }
 },
 "nbformat": 4,
 "nbformat_minor": 2
}
